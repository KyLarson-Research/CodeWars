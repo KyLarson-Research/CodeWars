{
 "cells": [
  {
   "cell_type": "code",
   "execution_count": 1,
   "metadata": {},
   "outputs": [
    {
     "ename": "SyntaxError",
     "evalue": "unexpected EOF while parsing (<ipython-input-1-ddd41e26b3fc>, line 15)",
     "output_type": "error",
     "traceback": [
      "\u001b[1;36m  File \u001b[1;32m\"<ipython-input-1-ddd41e26b3fc>\"\u001b[1;36m, line \u001b[1;32m15\u001b[0m\n\u001b[1;33m    # count colors by traversing the entire map and adding to the colors list for every new encountered\u001b[0m\n\u001b[1;37m                                                                                                       ^\u001b[0m\n\u001b[1;31mSyntaxError\u001b[0m\u001b[1;31m:\u001b[0m unexpected EOF while parsing\n"
     ]
    }
   ],
   "source": [
    "# File Name: color.ipynb\n",
    "# Author: Kyle Carlton Larson\n",
    "# Purpose: to complete the codewars challenge of the Four Color Theorem (Easy Version)\n",
    "\n",
    "def color(testmap):\n",
    "    # *Identify the territories and turn them into a useful graph of \n",
    "    # regions (nodes) connected by boarders (pointers)\n",
    "    \n",
    "    # color the first region and recursively color the next region using a different color from the previous\n",
    "    \n",
    "    # check the map for two side-by-side colors. \n",
    "    # if they exist, use a color that will not lead to side by side colors based on surrounding regions\n",
    "    \n",
    "    # Finally, the map has been checked; therefore, the least colors can be counted.\n",
    "    # count colors by traversing the entire map and adding to the colors list for every new encountered"
   ]
  },
  {
   "cell_type": "code",
   "execution_count": 5,
   "metadata": {},
   "outputs": [
    {
     "name": "stdout",
     "output_type": "stream",
     "text": [
      "n.nref[0] is none\n",
      "n.nref[0] is none\n",
      "n.nref[0] is none\n",
      "n.nref[0] is none\n",
      "C -> D\n",
      "DTrue\n",
      "C -> E\n",
      "ETrue\n",
      "C -> F\n",
      "FTrue\n",
      "C -> G\n",
      "GTrue\n",
      "HFalse\n"
     ]
    }
   ],
   "source": [
    "#graph version\n",
    "class Node:\n",
    "    def __init__(self, data):\n",
    "        self.item = data\n",
    "        self.nref = [None]\n",
    "        self.pref = None\n",
    "\n",
    "class DoublyLinkedList:\n",
    "    def __init__(self):\n",
    "        self.start_node = None        \n",
    "    \n",
    "    def insert_in_emptylist(self, data):\n",
    "        if self.start_node is None:\n",
    "            new_node = Node(data)\n",
    "            self.start_node = new_node\n",
    "        else:\n",
    "            print(\"list is not empty\")\n",
    "            \n",
    "    def insert_at_start(self, data):\n",
    "        if self.start_node is None:\n",
    "            new_node = Node(data)\n",
    "            self.start_node = new_node\n",
    "            print(\"insterted at start\")\n",
    "            return\n",
    "        new_node = Node(data)\n",
    "        new_node.nref.append(self.start_node)\n",
    "        self.start_node.pref = new_node\n",
    "        self.start_node = new_node\n",
    "    \n",
    "    def branch_end(self, data, i):\n",
    "        if self.start_node is None:\n",
    "            new_node = Node(data)\n",
    "            self.start_node = new_node\n",
    "            return\n",
    "        n = self.start_node\n",
    "        while True: #traverse to the leaf\n",
    "            if n is None:\n",
    "                print('n is none')\n",
    "                break\n",
    "            \n",
    "            if n.nref[0] is None:\n",
    "                print('n.nref[0] is none')\n",
    "                break\n",
    "                \n",
    "            n = n.nref[0]\n",
    "\n",
    "        new_node = Node(data)\n",
    "        n.nref.append(new_node)\n",
    "        new_node.pref = n\n",
    "        \n",
    "def recur_search(node, key):\n",
    "    if(node==None):\n",
    "        return\n",
    "    \n",
    "    if(node.item == key):\n",
    "        print(node.pref.item+' -> '+key)\n",
    "        output.append(True)\n",
    "        return\n",
    "    \n",
    "    for n in node.nref:\n",
    "        recur_search(n, key=key)\n",
    "        \n",
    "def in_graph(graph, item):\n",
    "    global output \n",
    "    output = [False]\n",
    "    recur_search(graph.start_node, key=item)\n",
    "    return output[len(output)-1]\n",
    "    \n",
    "testmap = \"ABCD\"\n",
    "Graph = DoublyLinkedList()\n",
    "\n",
    "Graph.insert_in_emptylist('A')\n",
    "Graph.insert_at_start('B')\n",
    "Graph.insert_at_start('C')\n",
    "Graph.branch_end('D', 0)\n",
    "Graph.branch_end('E', 1)\n",
    "Graph.branch_end('F', 2)\n",
    "Graph.branch_end('G', 3)\n",
    "print('D'+ str(in_graph(Graph, 'D') ) )\n",
    "print('E'+ str(in_graph(Graph, 'E') ) )\n",
    "print('F'+ str(in_graph(Graph, 'F') ))\n",
    "print('G'+ str(in_graph(Graph, 'G') ))\n",
    "print('H'+ str(in_graph(Graph, 'H') ))\n",
    "#for i in range(len(testmap)):\n",
    "    #look for the boundaries\n",
    "#    if(testmap[i]!=testmap[i+1]): #boundary detected\n",
    "#        if not_in_graph(graph, testmap[i]):\n",
    "#            graph[testmap[i]] = [testmap[i+1]]\n",
    "#        else:\n",
    "#            if testmap[i+1] not in graph[testmap[i]]:\n",
    "#                graph\n",
    "        \n",
    "        "
   ]
  },
  {
   "cell_type": "code",
   "execution_count": 3,
   "metadata": {},
   "outputs": [
    {
     "name": "stdout",
     "output_type": "stream",
     "text": [
      "E not in tg\n"
     ]
    }
   ],
   "source": [
    "testgraph = {'A':1, 'B':2, 'C':2, 'D':1}\n",
    "if 'E' not in testgraph:\n",
    "    print('E not in tg')"
   ]
  },
  {
   "cell_type": "code",
   "execution_count": 10,
   "metadata": {},
   "outputs": [
    {
     "name": "stdout",
     "output_type": "stream",
     "text": [
      "[2249846604088]\n"
     ]
    }
   ],
   "source": [
    "ptr = testgraph\n",
    "print([id(ptr)])"
   ]
  },
  {
   "cell_type": "code",
   "execution_count": 1,
   "metadata": {},
   "outputs": [],
   "source": [
    "class Node:\n",
    "    def __init__(self, data):\n",
    "        self.item = data\n",
    "        self.nref = None\n",
    "        self.pref = None\n",
    "\n",
    "class DoublyLinkedList:\n",
    "    def __init__(self):\n",
    "        self.start_node = None        \n",
    "    \n",
    "    def insert_in_emptylist(self, data):\n",
    "        if self.start_node is None:\n",
    "            new_node = Node(data)\n",
    "            self.start_node = new_node\n",
    "        else:\n",
    "            print(\"list is not empty\")\n",
    "            \n",
    "    def insert_at_start(self, data):\n",
    "        if self.start_node is None:\n",
    "            new_node = Node(data)\n",
    "            self.start_node = new_node\n",
    "            print(\"insterted at start\")\n",
    "            return\n",
    "        new_node = Node(data)\n",
    "        new_node.nref = self.start_node\n",
    "        self.start_node.pref = new_node\n",
    "        self.start_node = new_node\n",
    "        \n",
    "    def insert_at_end(self, data):\n",
    "        if self.start_node is None:\n",
    "            new_node = Node(data)\n",
    "            self.start_node = new_node\n",
    "            return\n",
    "        n = self.start_node\n",
    "        while n.nref is not None:\n",
    "            n = n.nref\n",
    "        new_node = Node(data)\n",
    "        n.nref = new_node\n",
    "        new_node.pref = n\n",
    "            \n",
    "         "
   ]
  },
  {
   "cell_type": "code",
   "execution_count": 2,
   "metadata": {},
   "outputs": [],
   "source": [
    "new_linked_list = DoublyLinkedList()"
   ]
  },
  {
   "cell_type": "code",
   "execution_count": 5,
   "metadata": {},
   "outputs": [],
   "source": [
    "new_linked_list.insert_in_emptylist('Fuck Sauce')\n",
    "new_linked_list.insert_at_start('Worstichire')\n",
    "new_linked_list.insert_at_start('Fuck Sauce')"
   ]
  },
  {
   "cell_type": "code",
   "execution_count": 6,
   "metadata": {},
   "outputs": [
    {
     "name": "stdout",
     "output_type": "stream",
     "text": [
      "Fuck Sauce\n"
     ]
    }
   ],
   "source": [
    "print(new_linked_list.start_node.item)"
   ]
  },
  {
   "cell_type": "code",
   "execution_count": 16,
   "metadata": {},
   "outputs": [
    {
     "name": "stdout",
     "output_type": "stream",
     "text": [
      "<class 'NoneType'>\n"
     ]
    }
   ],
   "source": [
    "n = None\n",
    "print(type(n))"
   ]
  },
  {
   "cell_type": "code",
   "execution_count": 33,
   "metadata": {},
   "outputs": [
    {
     "name": "stdout",
     "output_type": "stream",
     "text": [
      "True\n"
     ]
    }
   ],
   "source": [
    "w=[]\n",
    "w.append(True)\n",
    "print(*w)"
   ]
  },
  {
   "cell_type": "code",
   "execution_count": null,
   "metadata": {},
   "outputs": [],
   "source": []
  }
 ],
 "metadata": {
  "kernelspec": {
   "display_name": "Python 3",
   "language": "python",
   "name": "python3"
  },
  "language_info": {
   "codemirror_mode": {
    "name": "ipython",
    "version": 3
   },
   "file_extension": ".py",
   "mimetype": "text/x-python",
   "name": "python",
   "nbconvert_exporter": "python",
   "pygments_lexer": "ipython3",
   "version": "3.7.6"
  }
 },
 "nbformat": 4,
 "nbformat_minor": 4
}
