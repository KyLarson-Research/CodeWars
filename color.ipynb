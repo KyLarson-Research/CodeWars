{
 "cells": [
  {
   "cell_type": "code",
   "execution_count": null,
   "metadata": {},
   "outputs": [],
   "source": [
    "# File Name: color.ipynb\n",
    "# Author: Kyle Carlton Larson\n",
    "# Purpose: to complete the codewars challenge of the Four Color Theorem (Easy Version)\n",
    "def color(testmap):\n",
    "    # Identify the territories and turn them into a useful graph of \n",
    "    # regions (nodes) connected by boarders (pointers)\n",
    "    \n",
    "    \n",
    "    # color the first region and recursively color the next region using a different color from the previous\n",
    "    \n",
    "    # check the map for two side-by-side colors. \n",
    "    # if they exist, use a color that will not lead to side by side colors based on surrounding regions\n",
    "    \n",
    "    # Finally, the map has been checked; therefore, the least colors can be counted.\n",
    "    # count colors by traversing the entire map and adding to the colors list for every new encountered"
   ]
  }
 ],
 "metadata": {
  "kernelspec": {
   "display_name": "Python 3",
   "language": "python",
   "name": "python3"
  },
  "language_info": {
   "codemirror_mode": {
    "name": "ipython",
    "version": 3
   },
   "file_extension": ".py",
   "mimetype": "text/x-python",
   "name": "python",
   "nbconvert_exporter": "python",
   "pygments_lexer": "ipython3",
   "version": "3.7.6"
  }
 },
 "nbformat": 4,
 "nbformat_minor": 4
}
