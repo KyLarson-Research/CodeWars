{
 "cells": [
  {
   "cell_type": "code",
   "execution_count": 208,
   "metadata": {},
   "outputs": [],
   "source": [
    "#hashtag.ipynb\n",
    "#Author: Kyle Larson\n",
    "#Description: hashtag generator\n",
    "def space_cap(S):#req2 all words must have their first letter capitialized\n",
    "    for i in range(len(S)): \n",
    "        if( S[len(S)-1-i] == ' '):\n",
    "            if(S[len(S)-i].islower()):\n",
    "                S = S[:len(S)-i-1].strip() + S[len(S)-i].capitalize() +S[len(S)-i+1:]\n",
    "            else:#this is required because .capitalize switches case, not just...\n",
    "                S = S[:len(S)-i-1].strip() + S[len(S)-i:].strip()\n",
    "    return S\n",
    "\n",
    "def generate_hashtag(s):\n",
    "    if(len(s)==0):#req 4 if input or result is an empty string return false\n",
    "        return False\n",
    "    S = s.strip()\n",
    "        \n",
    "    S= S.capitalize()\n",
    "    \n",
    "    S = space_cap(S)\n",
    "        \n",
    "    S = '#'+S #req 1 it must start with a hashtag\n",
    "    \n",
    "    if(len(S)>140): #req 3 if the final result is longer than 140 chars it must return false\n",
    "        return False\n",
    "    \n",
    "    return S"
   ]
  },
  {
   "cell_type": "code",
   "execution_count": 209,
   "metadata": {},
   "outputs": [
    {
     "name": "stdout",
     "output_type": "stream",
     "text": [
      "cashMoney\n"
     ]
    }
   ],
   "source": [
    "check = 'cash money'\n",
    "check_tag = check[:4]+check[5:].capitalize()\n",
    "print(check_tag)"
   ]
  },
  {
   "cell_type": "code",
   "execution_count": 210,
   "metadata": {},
   "outputs": [
    {
     "name": "stdout",
     "output_type": "stream",
     "text": [
      "S\n",
      "L\n",
      "P\n",
      "#EasyPeasyLemonSqueezy\n"
     ]
    }
   ],
   "source": [
    "print(generate_hashtag('easy peasy lemon squeezy'))"
   ]
  },
  {
   "cell_type": "code",
   "execution_count": 211,
   "metadata": {},
   "outputs": [
    {
     "name": "stdout",
     "output_type": "stream",
     "text": [
      "#Burp\n"
     ]
    }
   ],
   "source": [
    "print(generate_hashtag('burp     '))"
   ]
  },
  {
   "cell_type": "code",
   "execution_count": 212,
   "metadata": {},
   "outputs": [
    {
     "name": "stdout",
     "output_type": "stream",
     "text": [
      "Y\n",
      "#BurpY\n"
     ]
    }
   ],
   "source": [
    "print(generate_hashtag('burp y'))"
   ]
  },
  {
   "cell_type": "code",
   "execution_count": 213,
   "metadata": {},
   "outputs": [
    {
     "data": {
      "text/plain": [
       "'Y'"
      ]
     },
     "execution_count": 213,
     "metadata": {},
     "output_type": "execute_result"
    }
   ],
   "source": [
    "'y'.capitalize()"
   ]
  },
  {
   "cell_type": "code",
   "execution_count": 214,
   "metadata": {},
   "outputs": [
    {
     "name": "stdout",
     "output_type": "stream",
     "text": [
      "N\n",
      "I\n",
      "#CodewarsIsNice\n"
     ]
    }
   ],
   "source": [
    "print(generate_hashtag('codewars  is  nice'))"
   ]
  },
  {
   "cell_type": "code",
   "execution_count": 215,
   "metadata": {},
   "outputs": [
    {
     "name": "stdout",
     "output_type": "stream",
     "text": [
      "Y\n",
      "Q\n",
      "E\n",
      "Y\n",
      "H\n",
      "S\n",
      "V\n",
      "Q\n",
      "S\n",
      "O\n",
      "G\n",
      "A\n",
      "#DpsxotwfAtGkbOkijpgSkmQavwewkVysrdwlxcdjSmngtaefgufHmkpzirYelEazbjonQwyYkfajfeliei\n"
     ]
    }
   ],
   "source": [
    "Z='dpSXoTwF at  gKb okIJPg Skm qavweWK vYSrDWLXCDJ smNGTaeFguF HMkpzIR YEL EAzBjON QwY YkFaJfEliEi'\n",
    "print(generate_hashtag(Z))"
   ]
  },
  {
   "cell_type": "code",
   "execution_count": 216,
   "metadata": {},
   "outputs": [
    {
     "name": "stdout",
     "output_type": "stream",
     "text": [
      "S\n",
      "O\n",
      "Q\n",
      "J\n",
      "E\n",
      "Y\n",
      "#ImbnabryflyYlyrcbuqginEchmpmixstrJrlozudbceoQluvugpcoOfvqhdrpkurSmoqjhyflzq\n"
     ]
    }
   ],
   "source": [
    "X='ImbnabRYFLy yLyrcBUqGin EcHmPmixstR jRLOZUdBCEo  qLuVUgpCo  OFVQhdRPkur SMOqjhYFLzQ'\n",
    "print(generate_hashtag(X))"
   ]
  },
  {
   "cell_type": "code",
   "execution_count": null,
   "metadata": {},
   "outputs": [],
   "source": []
  },
  {
   "cell_type": "code",
   "execution_count": null,
   "metadata": {},
   "outputs": [],
   "source": []
  }
 ],
 "metadata": {
  "kernelspec": {
   "display_name": "Python 3",
   "language": "python",
   "name": "python3"
  },
  "language_info": {
   "codemirror_mode": {
    "name": "ipython",
    "version": 3
   },
   "file_extension": ".py",
   "mimetype": "text/x-python",
   "name": "python",
   "nbconvert_exporter": "python",
   "pygments_lexer": "ipython3",
   "version": "3.7.6"
  }
 },
 "nbformat": 4,
 "nbformat_minor": 4
}
