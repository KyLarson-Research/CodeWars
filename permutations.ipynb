{
 "cells": [
  {
   "cell_type": "code",
   "execution_count": 84,
   "metadata": {},
   "outputs": [
    {
     "name": "stdout",
     "output_type": "stream",
     "text": [
      "c 0 n 4 out abcd\n",
      "c 1 n 4 out abcd\n",
      "c 0 n 4 out bacd\n",
      "c 1 n 4 out bacd\n",
      "c 2 n 4 out bacd\n",
      "c 0 n 4 out cabd\n",
      "c 1 n 4 out cabd\n",
      "c 0 n 4 out acbd\n",
      "c 1 n 4 out acbd\n",
      "c 2 n 4 out acbd\n",
      "c 0 n 4 out bcad\n",
      "c 1 n 4 out bcad\n",
      "c 0 n 4 out cbad\n",
      "c 1 n 4 out cbad\n",
      "c 2 n 4 out cbad\n",
      "c 3 n 4 out cbad\n",
      "c 0 n 4 out dbac\n",
      "c 1 n 4 out dbac\n",
      "c 0 n 4 out bdac\n",
      "c 1 n 4 out bdac\n",
      "c 2 n 4 out bdac\n",
      "c 0 n 4 out adbc\n",
      "c 1 n 4 out adbc\n",
      "c 0 n 4 out dabc\n",
      "c 1 n 4 out dabc\n",
      "c 2 n 4 out dabc\n",
      "c 0 n 4 out badc\n",
      "c 1 n 4 out badc\n",
      "c 0 n 4 out abdc\n",
      "c 1 n 4 out abdc\n",
      "c 2 n 4 out abdc\n",
      "c 3 n 4 out abdc\n",
      "c 0 n 4 out acdb\n",
      "c 1 n 4 out acdb\n",
      "c 0 n 4 out cadb\n",
      "c 1 n 4 out cadb\n",
      "c 2 n 4 out cadb\n",
      "c 0 n 4 out dacb\n",
      "c 1 n 4 out dacb\n",
      "c 0 n 4 out adcb\n",
      "c 1 n 4 out adcb\n",
      "c 2 n 4 out adcb\n",
      "c 0 n 4 out cdab\n",
      "c 1 n 4 out cdab\n",
      "c 0 n 4 out dcab\n",
      "c 1 n 4 out dcab\n",
      "c 2 n 4 out dcab\n",
      "c 3 n 4 out dcab\n",
      "c 0 n 4 out dcba\n",
      "c 1 n 4 out dcba\n",
      "c 0 n 4 out cdba\n",
      "c 1 n 4 out cdba\n",
      "c 2 n 4 out cdba\n",
      "c 0 n 4 out bdca\n",
      "c 1 n 4 out bdca\n",
      "c 0 n 4 out dbca\n",
      "c 1 n 4 out dbca\n",
      "c 2 n 4 out dbca\n",
      "c 0 n 4 out cbda\n",
      "c 1 n 4 out cbda\n",
      "c 0 n 4 out bcda\n",
      "c 1 n 4 out bcda\n",
      "c 2 n 4 out bcda\n",
      "c 3 n 4 out bcda\n",
      "['abcd', 'bacd', 'cabd', 'acbd', 'bcad', 'cbad', 'dbac', 'bdac', 'adbc', 'dabc', 'badc', 'abdc', 'acdb', 'cadb', 'dacb', 'adcb', 'cdab', 'dcab', 'dcba', 'cdba', 'bdca', 'dbca', 'cbda', 'bcda']\n"
     ]
    }
   ],
   "source": [
    "# Filename: Permutations.py\n",
    "# Author: Kyle C Larson\n",
    "# Description: this file defines a functon that gives all permutations of a string\n",
    "class Node(object):\n",
    "    def __init__(self, name, value):\n",
    "        self.name = name\n",
    "        self.value = value\n",
    "        self.children = []\n",
    "    def add_child(self, obj):\n",
    "        self.children.append(obj)\n",
    "\n",
    "#def remove_duplicates(iStrs):\n",
    "#remove all duplicate strings in the array of strings iStrs\n",
    "#led to inneficient 12000ms timeout on codewars server\n",
    "#    if(len(iStrs)==0):\n",
    "#       return []\n",
    "#    else:\n",
    "#        elements=[iStrs[0]]\n",
    "#        i = 0\n",
    "#        for c1 in iStrs:\n",
    "#            i=0\n",
    "#            c2 = elements[0]\n",
    "#            while(c1 != c2):\n",
    "#                i+=1\n",
    "#                if(i==len(elements)):\n",
    "#                    elements+=[c1]\n",
    "#                c2 = elements[i]\n",
    "#        return elements\n",
    "def not_contains(arr, Str):\n",
    "    for c1 in arr:\n",
    "        if(c1 == Str):\n",
    "             return False\n",
    "    return True \n",
    "\n",
    "def swap(arr, i1, i2):\n",
    "#swaps the elements at the given indices and returns the new array\n",
    "    out = arr\n",
    "    out = out[:i1] + out[i2] + out[i1+1:]\n",
    "    out = out[:i2] + arr[i1] + out[i2+1:]\n",
    "    return [out]\n",
    "\n",
    "def permutations(inStr):\n",
    "#this function returns the number of permutations of the characters in the input (inStr)\n",
    "#this python implementation is based on the psuedocode provided on the wikipedia page for \n",
    "#Heap's algorithm at https://en.wikipedia.org/wiki/Heap%27s_algorithm\n",
    "    c =[]\n",
    "    n = len(inStr)\n",
    "    for i in range(0, n):\n",
    "        c+=[0]\n",
    "        \n",
    "    output = [inStr]\n",
    "    i =0\n",
    "    while( i<n ):\n",
    "        print( 'c '+str(i)+' n '+str(n) +' out '+output[len(output)-1])\n",
    "        if(c[i] < i):\n",
    "            if(i %2 == 0):\n",
    "                temp = swap(output[len(output)-1], 0, i)\n",
    "                if(not_contains(output, temp[0])):\n",
    "                    output += temp\n",
    "            else:\n",
    "                temp = swap(output[len(output)-1], c[i], i)\n",
    "                if(not_contains(output, temp[0])):\n",
    "                    output += temp\n",
    "            \n",
    "            c[i]=c[i]+1\n",
    "            i =0\n",
    "        else:\n",
    "            c[i] = 0\n",
    "            i+=1\n",
    "            \n",
    "    return output\n",
    "\n",
    "print(permutations('abcd'))"
   ]
  },
  {
   "cell_type": "code",
   "execution_count": null,
   "metadata": {},
   "outputs": [],
   "source": [
    "#start_of_tree = Node('Start', 'a')\n",
    "#start_of_tree.add_child(Node('End', 'b'))\n",
    "#print(start_of_tree.children[0].name)"
   ]
  },
  {
   "cell_type": "code",
   "execution_count": 74,
   "metadata": {},
   "outputs": [
    {
     "name": "stdout",
     "output_type": "stream",
     "text": [
      "['ab', 'ba']\n"
     ]
    }
   ],
   "source": [
    "def remove_duplicates(iStrs):\n",
    "    if(len(iStrs)==0):\n",
    "        return []\n",
    "    else:\n",
    "        elements=[iStrs[0]]\n",
    "        i = 0\n",
    "        for c1 in iStrs:\n",
    "            i=0\n",
    "            c2 = elements[0]\n",
    "            while(c1 != c2):\n",
    "                i+=1\n",
    "                if(i==len(elements)):\n",
    "                    elements+=[c1]\n",
    "                c2 = elements[i]\n",
    "        return elements\n",
    "    \n",
    "print(remove_duplicates(['ab', 'ab', 'ba']))"
   ]
  },
  {
   "cell_type": "code",
   "execution_count": 80,
   "metadata": {},
   "outputs": [
    {
     "name": "stdout",
     "output_type": "stream",
     "text": [
      "False\n"
     ]
    }
   ],
   "source": [
    "def not_contains(arr, Str):\n",
    "    for c1 in arr:\n",
    "        if(c1 == Str):\n",
    "             return False\n",
    "    return True        \n",
    "print(not_contains(['aabb', 'aabb', 'baab', 'abab', 'abab', 'baab', 'baab', 'abab', 'abab', 'baab', 'aabb', 'aabb', 'abba', 'baba', 'baba', 'abba', 'bbaa', 'bbaa', 'bbaa', 'bbaa', 'abba', 'baba', 'baba', 'abba'],'abba'))"
   ]
  },
  {
   "cell_type": "code",
   "execution_count": 86,
   "metadata": {},
   "outputs": [
    {
     "name": "stdout",
     "output_type": "stream",
     "text": [
      "['cfd']\n"
     ]
    }
   ],
   "source": [
    "def swap(arr, i1, i2):\n",
    "#swaps the elements at the given indices and returns the new array\n",
    "    out = arr\n",
    "    out = out[:i1] + out[i2] + out[i1+1:]\n",
    "    out = out[:i2] + arr[i1] + out[i2+1:]\n",
    "    return [out]\n",
    "\n",
    "print(swap('cdf', 1, 2))"
   ]
  },
  {
   "cell_type": "code",
   "execution_count": 71,
   "metadata": {},
   "outputs": [
    {
     "data": {
      "text/plain": [
       "True"
      ]
     },
     "execution_count": 71,
     "metadata": {},
     "output_type": "execute_result"
    }
   ],
   "source": [
    "'ab'=='ab'"
   ]
  },
  {
   "cell_type": "code",
   "execution_count": 2,
   "metadata": {},
   "outputs": [
    {
     "name": "stdout",
     "output_type": "stream",
     "text": [
      "['1243', '2143', '4132', '4312', '4123', '1234', '2341', '3412', '2314', '3241', '2431', '1432', '4231', '1342', '3421', '2413', '4213', '2134', '4321', '3124', '1324', '3214', '1423', '3142']\n",
      "['1234', '2134', '3214', '2314', '3124', '1324', '4123', '1423', '2143', '1243', '2413', '4213', '3412', '4312', '1432', '4132', '1342', '3142', '2341', '3241', '4321', '3421', '4231', '2431']\n"
     ]
    }
   ],
   "source": [
    "#Final version submitted below is in this cell\n",
    "#\n",
    "def recurpermute(k, A):\n",
    "    if(k==1):\n",
    "        #if (''.join(A) not in output):\n",
    "        output.append(''.join(A))\n",
    "        return\n",
    "    \n",
    "    for i in range(k):\n",
    "        recurpermute(k-1, A)\n",
    "        if(k % 2==0):\n",
    "            A[k-1], A[0] = A[0], A[k-1]\n",
    "        else:\n",
    "            A[k-1], A[i] = A[i], A[k-1]\n",
    "\n",
    "def permutations(inStr):\n",
    "#this function returns the number of permutations of the characters in the input (inStr)\n",
    "#this python implementation is based on the psuedocode provided on the wikipedia page for \n",
    "#Heap's algorithm at https://en.wikipedia.org/wiki/Heap%27s_algorithm\n",
    "#Geeks for Geeks was also consulted at the following\n",
    "#https://www.geeksforgeeks.org/heaps-algorithm-for-generating-permutations/\n",
    "    global output\n",
    "    output=[]\n",
    "    x = len(inStr)\n",
    "    recurpermute(x, list(inStr))\n",
    "    return list(set(output))\n",
    "print(permutations('1234'))\n",
    "print(output)\n"
   ]
  },
  {
   "cell_type": "code",
   "execution_count": 1,
   "metadata": {},
   "outputs": [
    {
     "name": "stdout",
     "output_type": "stream",
     "text": [
      "24\n",
      "24\n"
     ]
    },
    {
     "data": {
      "text/plain": [
       "4"
      ]
     },
     "execution_count": 1,
     "metadata": {},
     "output_type": "execute_result"
    }
   ],
   "source": [
    "print(len(['abcd', 'abdc', 'acbd', 'acdb', 'adbc', 'adcb', 'bacd', 'badc', 'bcad', 'bcda', 'bdac', \n",
    " 'bdca', 'cabd', \n",
    " 'cadb', 'cbad', 'cbda', 'cdab', 'cdba', 'dabc', 'dacb', 'dbac', 'dbca', 'dcab', 'dcba']))\n",
    "print(len(['abcd', 'bacd', 'cbad', 'bcad', 'cabd', 'acbd', 'dbca', 'bdca', 'cbda', 'bcda', 'cdba', 'dcba', 'abcd', 'bacd', 'cbad', 'bcad', 'cabd', 'acbd', 'dbca', 'bdca', 'cbda', 'bcda', 'cdba', 'dcba']))\n",
    "len('1234')"
   ]
  },
  {
   "cell_type": "code",
   "execution_count": 75,
   "metadata": {},
   "outputs": [
    {
     "name": "stdout",
     "output_type": "stream",
     "text": [
      "['az']\n"
     ]
    },
    {
     "ename": "TypeError",
     "evalue": "'str' object does not support item assignment",
     "output_type": "error",
     "traceback": [
      "\u001b[1;31m---------------------------------------------------------------------------\u001b[0m",
      "\u001b[1;31mTypeError\u001b[0m                                 Traceback (most recent call last)",
      "\u001b[1;32m<ipython-input-75-ceb104efdd41>\u001b[0m in \u001b[0;36m<module>\u001b[1;34m\u001b[0m\n\u001b[0;32m     11\u001b[0m     \u001b[1;32mreturn\u001b[0m \u001b[0minp\u001b[0m\u001b[1;33m\u001b[0m\u001b[1;33m\u001b[0m\u001b[0m\n\u001b[0;32m     12\u001b[0m \u001b[0mprint\u001b[0m\u001b[1;33m(\u001b[0m\u001b[0mout\u001b[0m\u001b[1;33m)\u001b[0m\u001b[1;33m\u001b[0m\u001b[1;33m\u001b[0m\u001b[0m\n\u001b[1;32m---> 13\u001b[1;33m \u001b[0mprint\u001b[0m\u001b[1;33m(\u001b[0m\u001b[0mtest_swap2\u001b[0m\u001b[1;33m(\u001b[0m\u001b[1;34m'boobs'\u001b[0m\u001b[1;33m)\u001b[0m\u001b[1;33m)\u001b[0m\u001b[1;33m\u001b[0m\u001b[1;33m\u001b[0m\u001b[0m\n\u001b[0m\u001b[0;32m     14\u001b[0m \u001b[0mprint\u001b[0m\u001b[1;33m(\u001b[0m\u001b[0mout\u001b[0m\u001b[1;33m)\u001b[0m\u001b[1;33m\u001b[0m\u001b[1;33m\u001b[0m\u001b[0m\n",
      "\u001b[1;32m<ipython-input-75-ceb104efdd41>\u001b[0m in \u001b[0;36mtest_swap2\u001b[1;34m(inp)\u001b[0m\n\u001b[0;32m      8\u001b[0m \u001b[1;33m\u001b[0m\u001b[0m\n\u001b[0;32m      9\u001b[0m \u001b[1;32mdef\u001b[0m \u001b[0mtest_swap2\u001b[0m\u001b[1;33m(\u001b[0m\u001b[0minp\u001b[0m\u001b[1;33m)\u001b[0m\u001b[1;33m:\u001b[0m\u001b[1;33m\u001b[0m\u001b[1;33m\u001b[0m\u001b[0m\n\u001b[1;32m---> 10\u001b[1;33m     \u001b[0mswap2\u001b[0m\u001b[1;33m(\u001b[0m\u001b[0mout\u001b[0m\u001b[1;33m[\u001b[0m\u001b[1;36m0\u001b[0m\u001b[1;33m]\u001b[0m\u001b[1;33m,\u001b[0m \u001b[1;36m0\u001b[0m\u001b[1;33m,\u001b[0m \u001b[0mlen\u001b[0m\u001b[1;33m(\u001b[0m\u001b[0mout\u001b[0m\u001b[1;33m)\u001b[0m\u001b[1;33m-\u001b[0m\u001b[1;36m1\u001b[0m\u001b[1;33m)\u001b[0m\u001b[1;33m\u001b[0m\u001b[1;33m\u001b[0m\u001b[0m\n\u001b[0m\u001b[0;32m     11\u001b[0m     \u001b[1;32mreturn\u001b[0m \u001b[0minp\u001b[0m\u001b[1;33m\u001b[0m\u001b[1;33m\u001b[0m\u001b[0m\n\u001b[0;32m     12\u001b[0m \u001b[0mprint\u001b[0m\u001b[1;33m(\u001b[0m\u001b[0mout\u001b[0m\u001b[1;33m)\u001b[0m\u001b[1;33m\u001b[0m\u001b[1;33m\u001b[0m\u001b[0m\n",
      "\u001b[1;32m<ipython-input-75-ceb104efdd41>\u001b[0m in \u001b[0;36mswap2\u001b[1;34m(A, I, II)\u001b[0m\n\u001b[0;32m      1\u001b[0m \u001b[1;32mdef\u001b[0m \u001b[0mswap2\u001b[0m\u001b[1;33m(\u001b[0m\u001b[0mA\u001b[0m\u001b[1;33m,\u001b[0m \u001b[0mI\u001b[0m\u001b[1;33m,\u001b[0m \u001b[0mII\u001b[0m\u001b[1;33m)\u001b[0m\u001b[1;33m:\u001b[0m\u001b[1;33m\u001b[0m\u001b[1;33m\u001b[0m\u001b[0m\n\u001b[0;32m      2\u001b[0m     \u001b[0mtemp\u001b[0m \u001b[1;33m=\u001b[0m \u001b[0mA\u001b[0m\u001b[1;33m[\u001b[0m\u001b[0mI\u001b[0m\u001b[1;33m]\u001b[0m\u001b[1;33m\u001b[0m\u001b[1;33m\u001b[0m\u001b[0m\n\u001b[1;32m----> 3\u001b[1;33m     \u001b[0mA\u001b[0m\u001b[1;33m[\u001b[0m\u001b[0mI\u001b[0m\u001b[1;33m]\u001b[0m \u001b[1;33m=\u001b[0m \u001b[0mA\u001b[0m\u001b[1;33m[\u001b[0m\u001b[0mII\u001b[0m\u001b[1;33m]\u001b[0m\u001b[1;33m\u001b[0m\u001b[1;33m\u001b[0m\u001b[0m\n\u001b[0m\u001b[0;32m      4\u001b[0m     \u001b[0mA\u001b[0m\u001b[1;33m[\u001b[0m\u001b[0mII\u001b[0m\u001b[1;33m]\u001b[0m \u001b[1;33m=\u001b[0m \u001b[0mtemp\u001b[0m\u001b[1;33m\u001b[0m\u001b[1;33m\u001b[0m\u001b[0m\n\u001b[0;32m      5\u001b[0m     \u001b[1;32mreturn\u001b[0m\u001b[1;33m\u001b[0m\u001b[1;33m\u001b[0m\u001b[0m\n",
      "\u001b[1;31mTypeError\u001b[0m: 'str' object does not support item assignment"
     ]
    }
   ],
   "source": [
    "def swap2(A, I, II):\n",
    "    temp = A[I]\n",
    "    A[I] = A[II]\n",
    "    A[II] = temp\n",
    "    return \n",
    "\n",
    "out = ['az']\n",
    "\n",
    "def test_swap2(inp):\n",
    "    swap2(out[0], 0, len(out)-1)\n",
    "    return inp\n",
    "print(out)\n",
    "print(test_swap2('boobs'))\n",
    "print(out)"
   ]
  },
  {
   "cell_type": "code",
   "execution_count": 38,
   "metadata": {},
   "outputs": [
    {
     "name": "stdout",
     "output_type": "stream",
     "text": [
      "012345\n",
      "012354\n"
     ]
    }
   ],
   "source": [
    "A ='012345'\n",
    "print(A)\n",
    "def swap3(A, i1, i2):\n",
    "    temp = A[:i1] + A[i2] + A[i1+1:]\n",
    "    A = temp[:i2] + A[i1] + temp[i2+1:]\n",
    "    return A\n",
    "print(swap3(A, 4, 5))"
   ]
  },
  {
   "cell_type": "code",
   "execution_count": 26,
   "metadata": {},
   "outputs": [
    {
     "name": "stdout",
     "output_type": "stream",
     "text": [
      "['abcd', 'bacd', 'cabd', 'acbd', 'bcad', 'cbad', 'dbca', 'bdca', 'cdba', 'dcba', 'bcda', 'cbda', 'dacb', 'adcb', 'cdab', 'dcab', 'acdb', 'cadb', 'dabc', 'adbc', 'bdac', 'dbac', 'abdc', 'badc']\n"
     ]
    }
   ],
   "source": [
    "# Python program to print all permutations using\n",
    "# Heap's algorithm\n",
    " \n",
    "# Prints the array\n",
    " \n",
    "\n",
    " \n",
    " \n",
    "def heapPermutation(a, size, n):\n",
    " \n",
    "    # if size becomes 1 then prints the obtained\n",
    "    # permutation\n",
    "    if (size == 1):\n",
    "        #for i in range(n):\n",
    "        printarr.append(a[0:n])\n",
    "        #return\n",
    " \n",
    "    for i in range(size):\n",
    "        heapPermutation(a, size-1, n)\n",
    " \n",
    "        # if size is odd, swap 0th i.e (first) \n",
    "        # and (size-1)th i.e (last) element\n",
    "        # else If size is even, swap ith \n",
    "        # and (size-1)th i.e (last) element\n",
    "        if size & 1:\n",
    "            a[0], a[size-1] = a[size-1], a[0]\n",
    "        else:\n",
    "            a[i], a[size-1] = a[size-1], a[i]\n",
    " \n",
    " \n",
    "# Driver code\n",
    "printarr = []\n",
    "a = ['a', 'b', 'c', 'd']\n",
    "n = len(a)\n",
    "heapPermutation(a, n, n)\n",
    "for i in range(len(printarr)):\n",
    "    printarr[i] = arrToStr(printarr[i])\n",
    "print(printarr)"
   ]
  },
  {
   "cell_type": "code",
   "execution_count": 18,
   "metadata": {},
   "outputs": [
    {
     "name": "stdout",
     "output_type": "stream",
     "text": [
      "['a', 'b', 'c', 'd']\n"
     ]
    }
   ],
   "source": [
    "def strToArr(S):\n",
    "    out=[]\n",
    "    for c in S:\n",
    "        out.append(c)\n",
    "    return out\n",
    "\n",
    "def arrToStr(A):\n",
    "    out=''\n",
    "    for i in A:\n",
    "        out+=i\n",
    "    return out\n",
    "\n",
    "print(strToArr(arrToStr(['a', 'b', 'c', 'd'])))"
   ]
  },
  {
   "cell_type": "code",
   "execution_count": 48,
   "metadata": {},
   "outputs": [],
   "source": [
    "z=list('abcd')"
   ]
  },
  {
   "cell_type": "code",
   "execution_count": 49,
   "metadata": {},
   "outputs": [
    {
     "data": {
      "text/plain": [
       "['a', 'b']"
      ]
     },
     "execution_count": 49,
     "metadata": {},
     "output_type": "execute_result"
    }
   ],
   "source": [
    "i = 2\n",
    "z[:i]"
   ]
  },
  {
   "cell_type": "code",
   "execution_count": 50,
   "metadata": {},
   "outputs": [
    {
     "data": {
      "text/plain": [
       "['c', 'd']"
      ]
     },
     "execution_count": 50,
     "metadata": {},
     "output_type": "execute_result"
    }
   ],
   "source": [
    "z[i:]"
   ]
  },
  {
   "cell_type": "code",
   "execution_count": 8,
   "metadata": {},
   "outputs": [
    {
     "name": "stdout",
     "output_type": "stream",
     "text": [
      "False\n"
     ]
    }
   ],
   "source": [
    "def alreadyThere(arr, elmt):\n",
    "    if (elmt not in arr):\n",
    "        return True\n",
    "    else:\n",
    "        return False\n",
    "    \n",
    "print(alreadyThere(['1','2', '3', '4'], '4'))"
   ]
  },
  {
   "cell_type": "code",
   "execution_count": null,
   "metadata": {},
   "outputs": [],
   "source": []
  }
 ],
 "metadata": {
  "kernelspec": {
   "display_name": "Python 3",
   "language": "python",
   "name": "python3"
  },
  "language_info": {
   "codemirror_mode": {
    "name": "ipython",
    "version": 3
   },
   "file_extension": ".py",
   "mimetype": "text/x-python",
   "name": "python",
   "nbconvert_exporter": "python",
   "pygments_lexer": "ipython3",
   "version": "3.7.6"
  }
 },
 "nbformat": 4,
 "nbformat_minor": 4
}
