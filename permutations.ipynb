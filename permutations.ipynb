{
 "cells": [
  {
   "cell_type": "code",
   "execution_count": 84,
   "metadata": {},
   "outputs": [
    {
     "name": "stdout",
     "output_type": "stream",
     "text": [
      "c 0 n 4 out abcd\n",
      "c 1 n 4 out abcd\n",
      "c 0 n 4 out bacd\n",
      "c 1 n 4 out bacd\n",
      "c 2 n 4 out bacd\n",
      "c 0 n 4 out cabd\n",
      "c 1 n 4 out cabd\n",
      "c 0 n 4 out acbd\n",
      "c 1 n 4 out acbd\n",
      "c 2 n 4 out acbd\n",
      "c 0 n 4 out bcad\n",
      "c 1 n 4 out bcad\n",
      "c 0 n 4 out cbad\n",
      "c 1 n 4 out cbad\n",
      "c 2 n 4 out cbad\n",
      "c 3 n 4 out cbad\n",
      "c 0 n 4 out dbac\n",
      "c 1 n 4 out dbac\n",
      "c 0 n 4 out bdac\n",
      "c 1 n 4 out bdac\n",
      "c 2 n 4 out bdac\n",
      "c 0 n 4 out adbc\n",
      "c 1 n 4 out adbc\n",
      "c 0 n 4 out dabc\n",
      "c 1 n 4 out dabc\n",
      "c 2 n 4 out dabc\n",
      "c 0 n 4 out badc\n",
      "c 1 n 4 out badc\n",
      "c 0 n 4 out abdc\n",
      "c 1 n 4 out abdc\n",
      "c 2 n 4 out abdc\n",
      "c 3 n 4 out abdc\n",
      "c 0 n 4 out acdb\n",
      "c 1 n 4 out acdb\n",
      "c 0 n 4 out cadb\n",
      "c 1 n 4 out cadb\n",
      "c 2 n 4 out cadb\n",
      "c 0 n 4 out dacb\n",
      "c 1 n 4 out dacb\n",
      "c 0 n 4 out adcb\n",
      "c 1 n 4 out adcb\n",
      "c 2 n 4 out adcb\n",
      "c 0 n 4 out cdab\n",
      "c 1 n 4 out cdab\n",
      "c 0 n 4 out dcab\n",
      "c 1 n 4 out dcab\n",
      "c 2 n 4 out dcab\n",
      "c 3 n 4 out dcab\n",
      "c 0 n 4 out dcba\n",
      "c 1 n 4 out dcba\n",
      "c 0 n 4 out cdba\n",
      "c 1 n 4 out cdba\n",
      "c 2 n 4 out cdba\n",
      "c 0 n 4 out bdca\n",
      "c 1 n 4 out bdca\n",
      "c 0 n 4 out dbca\n",
      "c 1 n 4 out dbca\n",
      "c 2 n 4 out dbca\n",
      "c 0 n 4 out cbda\n",
      "c 1 n 4 out cbda\n",
      "c 0 n 4 out bcda\n",
      "c 1 n 4 out bcda\n",
      "c 2 n 4 out bcda\n",
      "c 3 n 4 out bcda\n",
      "['abcd', 'bacd', 'cabd', 'acbd', 'bcad', 'cbad', 'dbac', 'bdac', 'adbc', 'dabc', 'badc', 'abdc', 'acdb', 'cadb', 'dacb', 'adcb', 'cdab', 'dcab', 'dcba', 'cdba', 'bdca', 'dbca', 'cbda', 'bcda']\n"
     ]
    }
   ],
   "source": [
    "# Filename: Permutations.py\n",
    "# Author: Kyle C Larson\n",
    "# Description: this file defines a functon that gives all permutations of a string\n",
    "class Node(object):\n",
    "    def __init__(self, name, value):\n",
    "        self.name = name\n",
    "        self.value = value\n",
    "        self.children = []\n",
    "    def add_child(self, obj):\n",
    "        self.children.append(obj)\n",
    "\n",
    "#def remove_duplicates(iStrs):\n",
    "#remove all duplicate strings in the array of strings iStrs\n",
    "#led to inneficient 12000ms timeout on codewars server\n",
    "#    if(len(iStrs)==0):\n",
    "#       return []\n",
    "#    else:\n",
    "#        elements=[iStrs[0]]\n",
    "#        i = 0\n",
    "#        for c1 in iStrs:\n",
    "#            i=0\n",
    "#            c2 = elements[0]\n",
    "#            while(c1 != c2):\n",
    "#                i+=1\n",
    "#                if(i==len(elements)):\n",
    "#                    elements+=[c1]\n",
    "#                c2 = elements[i]\n",
    "#        return elements\n",
    "def not_contains(arr, Str):\n",
    "    for c1 in arr:\n",
    "        if(c1 == Str):\n",
    "             return False\n",
    "    return True \n",
    "\n",
    "def swap(arr, i1, i2):\n",
    "#swaps the elements at the given indices and returns the new array\n",
    "    out = arr\n",
    "    out = out[:i1] + out[i2] + out[i1+1:]\n",
    "    out = out[:i2] + arr[i1] + out[i2+1:]\n",
    "    return [out]\n",
    "\n",
    "def permutations(inStr):\n",
    "#this function returns the number of permutations of the characters in the input (inStr)\n",
    "#this python implementation is based on the psuedocode provided on the wikipedia page for \n",
    "#Heap's algorithm at https://en.wikipedia.org/wiki/Heap%27s_algorithm\n",
    "    c =[]\n",
    "    n = len(inStr)\n",
    "    for i in range(0, n):\n",
    "        c+=[0]\n",
    "        \n",
    "    output = [inStr]\n",
    "    i =0\n",
    "    while( i<n ):\n",
    "        print( 'c '+str(i)+' n '+str(n) +' out '+output[len(output)-1])\n",
    "        if(c[i] < i):\n",
    "            if(i %2 == 0):\n",
    "                temp = swap(output[len(output)-1], 0, i)\n",
    "                if(not_contains(output, temp[0])):\n",
    "                    output += temp\n",
    "            else:\n",
    "                temp = swap(output[len(output)-1], c[i], i)\n",
    "                if(not_contains(output, temp[0])):\n",
    "                    output += temp\n",
    "            \n",
    "            c[i]=c[i]+1\n",
    "            i =0\n",
    "        else:\n",
    "            c[i] = 0\n",
    "            i+=1\n",
    "            \n",
    "    return output\n",
    "\n",
    "print(permutations('abcd'))"
   ]
  },
  {
   "cell_type": "code",
   "execution_count": null,
   "metadata": {},
   "outputs": [],
   "source": [
    "#start_of_tree = Node('Start', 'a')\n",
    "#start_of_tree.add_child(Node('End', 'b'))\n",
    "#print(start_of_tree.children[0].name)"
   ]
  },
  {
   "cell_type": "code",
   "execution_count": 74,
   "metadata": {},
   "outputs": [
    {
     "name": "stdout",
     "output_type": "stream",
     "text": [
      "['ab', 'ba']\n"
     ]
    }
   ],
   "source": [
    "def remove_duplicates(iStrs):\n",
    "    if(len(iStrs)==0):\n",
    "        return []\n",
    "    else:\n",
    "        elements=[iStrs[0]]\n",
    "        i = 0\n",
    "        for c1 in iStrs:\n",
    "            i=0\n",
    "            c2 = elements[0]\n",
    "            while(c1 != c2):\n",
    "                i+=1\n",
    "                if(i==len(elements)):\n",
    "                    elements+=[c1]\n",
    "                c2 = elements[i]\n",
    "        return elements\n",
    "    \n",
    "print(remove_duplicates(['ab', 'ab', 'ba']))"
   ]
  },
  {
   "cell_type": "code",
   "execution_count": 80,
   "metadata": {},
   "outputs": [
    {
     "name": "stdout",
     "output_type": "stream",
     "text": [
      "False\n"
     ]
    }
   ],
   "source": [
    "def not_contains(arr, Str):\n",
    "    for c1 in arr:\n",
    "        if(c1 == Str):\n",
    "             return False\n",
    "    return True        \n",
    "print(not_contains(['aabb', 'aabb', 'baab', 'abab', 'abab', 'baab', 'baab', 'abab', 'abab', 'baab', 'aabb', 'aabb', 'abba', 'baba', 'baba', 'abba', 'bbaa', 'bbaa', 'bbaa', 'bbaa', 'abba', 'baba', 'baba', 'abba'],'abba'))"
   ]
  },
  {
   "cell_type": "code",
   "execution_count": 86,
   "metadata": {},
   "outputs": [
    {
     "name": "stdout",
     "output_type": "stream",
     "text": [
      "['cfd']\n"
     ]
    }
   ],
   "source": [
    "def swap(arr, i1, i2):\n",
    "#swaps the elements at the given indices and returns the new array\n",
    "    out = arr\n",
    "    out = out[:i1] + out[i2] + out[i1+1:]\n",
    "    out = out[:i2] + arr[i1] + out[i2+1:]\n",
    "    return [out]\n",
    "\n",
    "print(swap('cdf', 1, 2))"
   ]
  },
  {
   "cell_type": "code",
   "execution_count": 71,
   "metadata": {},
   "outputs": [
    {
     "data": {
      "text/plain": [
       "True"
      ]
     },
     "execution_count": 71,
     "metadata": {},
     "output_type": "execute_result"
    }
   ],
   "source": [
    "'ab'=='ab'"
   ]
  },
  {
   "cell_type": "code",
   "execution_count": 124,
   "metadata": {},
   "outputs": [
    {
     "name": "stdout",
     "output_type": "stream",
     "text": [
      "0 k 2  A 1234\n",
      "1 k 3  A 1234\n",
      "2 k 2  A 3214\n",
      "4 k 2  A 1324\n",
      "5 k 4  A 1234\n",
      "6 k 2  A 4231\n",
      "7 k 3  A 4231\n",
      "8 k 2  A 3241\n",
      "10 k 2  A 4321\n",
      "12 k 2  A 1432\n",
      "13 k 3  A 1432\n",
      "14 k 2  A 3412\n",
      "16 k 2  A 1342\n",
      "18 k 2  A 4231\n",
      "19 k 3  A 4231\n",
      "20 k 2  A 3241\n",
      "22 k 2  A 4321\n",
      "['1234', '2134', '3214', '2314', '1324', '3124', '4231', '2431', '3241', '2341', '4321', '3421', '1432', '4132', '3412', '4312', '1342', '3142']\n",
      "['1234', '1234', '2134', '3214', '2314', '1324', '3124', '4231', '2431', '3241', '2341', '4321', '3421', '1432', '4132', '3412', '4312', '1342', '3142', '4231', '2431', '3241', '2341', '4321', '3421']\n"
     ]
    }
   ],
   "source": [
    "def swap2(arr, i1, i2):\n",
    "    out = arr\n",
    "    out = out[:i1] + out[i2] + out[i1+1:]\n",
    "    out = out[:i2] + arr[i1] + out[i2+1:]\n",
    "    return out\n",
    "\n",
    "def remove_duplicates(iStrs):\n",
    "    if(len(iStrs)==0):\n",
    "        return []\n",
    "    else:\n",
    "        elements=[iStrs[0]]\n",
    "        i = 0\n",
    "        for c1 in iStrs:\n",
    "            i=0\n",
    "            c2 = elements[0]\n",
    "            while(c1 != c2):\n",
    "                i+=1\n",
    "                if(i==len(elements)):\n",
    "                    elements+=[c1]\n",
    "                c2 = elements[i]\n",
    "        return elements\n",
    "    \n",
    "def recurpermute(k, A):\n",
    "    global count\n",
    "    if(k==1): \n",
    "        return output.append(A)\n",
    "    recurpermute(k-1, A)\n",
    "    print(str(count)+' k '+str(k)+'  A '+A)\n",
    "    for i in range(k-1):\n",
    "        count+=1\n",
    "        if(i % 2 == 0):\n",
    "            recurpermute(k-1, swap2(A, k-1, 0))\n",
    "        else:\n",
    "            recurpermute(k-1, swap2(A, k-1, i))\n",
    "    return \n",
    "    \n",
    "def permutations(inStr):\n",
    "#this function returns the number of permutations of the characters in the input (inStr)\n",
    "#this python implementation is based on the psuedocode provided on the wikipedia page for \n",
    "#Heap's algorithm at https://en.wikipedia.org/wiki/Heap%27s_algorithm\n",
    "    global output\n",
    "    global count\n",
    "    count = 0\n",
    "    output=[inStr]\n",
    "    x = len(inStr)\n",
    "    recurpermute(x, inStr)\n",
    "    return remove_duplicates(output)\n",
    "print(permutations('1234'))\n",
    "print(output)\n"
   ]
  },
  {
   "cell_type": "code",
   "execution_count": 111,
   "metadata": {},
   "outputs": [
    {
     "name": "stdout",
     "output_type": "stream",
     "text": [
      "24\n",
      "24\n"
     ]
    }
   ],
   "source": [
    "print(len(['abcd', 'abdc', 'acbd', 'acdb', 'adbc', 'adcb', 'bacd', 'badc', 'bcad', 'bcda', 'bdac', \n",
    " 'bdca', 'cabd', \n",
    " 'cadb', 'cbad', 'cbda', 'cdab', 'cdba', 'dabc', 'dacb', 'dbac', 'dbca', 'dcab', 'dcba']))\n",
    "print(len(['abcd', 'bacd', 'cbad', 'bcad', 'cabd', 'acbd', 'dbca', 'bdca', 'cbda', 'bcda', 'cdba', 'dcba', 'abcd', 'bacd', 'cbad', 'bcad', 'cabd', 'acbd', 'dbca', 'bdca', 'cbda', 'bcda', 'cdba', 'dcba']))"
   ]
  },
  {
   "cell_type": "code",
   "execution_count": 75,
   "metadata": {},
   "outputs": [
    {
     "name": "stdout",
     "output_type": "stream",
     "text": [
      "['az']\n"
     ]
    },
    {
     "ename": "TypeError",
     "evalue": "'str' object does not support item assignment",
     "output_type": "error",
     "traceback": [
      "\u001b[1;31m---------------------------------------------------------------------------\u001b[0m",
      "\u001b[1;31mTypeError\u001b[0m                                 Traceback (most recent call last)",
      "\u001b[1;32m<ipython-input-75-ceb104efdd41>\u001b[0m in \u001b[0;36m<module>\u001b[1;34m\u001b[0m\n\u001b[0;32m     11\u001b[0m     \u001b[1;32mreturn\u001b[0m \u001b[0minp\u001b[0m\u001b[1;33m\u001b[0m\u001b[1;33m\u001b[0m\u001b[0m\n\u001b[0;32m     12\u001b[0m \u001b[0mprint\u001b[0m\u001b[1;33m(\u001b[0m\u001b[0mout\u001b[0m\u001b[1;33m)\u001b[0m\u001b[1;33m\u001b[0m\u001b[1;33m\u001b[0m\u001b[0m\n\u001b[1;32m---> 13\u001b[1;33m \u001b[0mprint\u001b[0m\u001b[1;33m(\u001b[0m\u001b[0mtest_swap2\u001b[0m\u001b[1;33m(\u001b[0m\u001b[1;34m'boobs'\u001b[0m\u001b[1;33m)\u001b[0m\u001b[1;33m)\u001b[0m\u001b[1;33m\u001b[0m\u001b[1;33m\u001b[0m\u001b[0m\n\u001b[0m\u001b[0;32m     14\u001b[0m \u001b[0mprint\u001b[0m\u001b[1;33m(\u001b[0m\u001b[0mout\u001b[0m\u001b[1;33m)\u001b[0m\u001b[1;33m\u001b[0m\u001b[1;33m\u001b[0m\u001b[0m\n",
      "\u001b[1;32m<ipython-input-75-ceb104efdd41>\u001b[0m in \u001b[0;36mtest_swap2\u001b[1;34m(inp)\u001b[0m\n\u001b[0;32m      8\u001b[0m \u001b[1;33m\u001b[0m\u001b[0m\n\u001b[0;32m      9\u001b[0m \u001b[1;32mdef\u001b[0m \u001b[0mtest_swap2\u001b[0m\u001b[1;33m(\u001b[0m\u001b[0minp\u001b[0m\u001b[1;33m)\u001b[0m\u001b[1;33m:\u001b[0m\u001b[1;33m\u001b[0m\u001b[1;33m\u001b[0m\u001b[0m\n\u001b[1;32m---> 10\u001b[1;33m     \u001b[0mswap2\u001b[0m\u001b[1;33m(\u001b[0m\u001b[0mout\u001b[0m\u001b[1;33m[\u001b[0m\u001b[1;36m0\u001b[0m\u001b[1;33m]\u001b[0m\u001b[1;33m,\u001b[0m \u001b[1;36m0\u001b[0m\u001b[1;33m,\u001b[0m \u001b[0mlen\u001b[0m\u001b[1;33m(\u001b[0m\u001b[0mout\u001b[0m\u001b[1;33m)\u001b[0m\u001b[1;33m-\u001b[0m\u001b[1;36m1\u001b[0m\u001b[1;33m)\u001b[0m\u001b[1;33m\u001b[0m\u001b[1;33m\u001b[0m\u001b[0m\n\u001b[0m\u001b[0;32m     11\u001b[0m     \u001b[1;32mreturn\u001b[0m \u001b[0minp\u001b[0m\u001b[1;33m\u001b[0m\u001b[1;33m\u001b[0m\u001b[0m\n\u001b[0;32m     12\u001b[0m \u001b[0mprint\u001b[0m\u001b[1;33m(\u001b[0m\u001b[0mout\u001b[0m\u001b[1;33m)\u001b[0m\u001b[1;33m\u001b[0m\u001b[1;33m\u001b[0m\u001b[0m\n",
      "\u001b[1;32m<ipython-input-75-ceb104efdd41>\u001b[0m in \u001b[0;36mswap2\u001b[1;34m(A, I, II)\u001b[0m\n\u001b[0;32m      1\u001b[0m \u001b[1;32mdef\u001b[0m \u001b[0mswap2\u001b[0m\u001b[1;33m(\u001b[0m\u001b[0mA\u001b[0m\u001b[1;33m,\u001b[0m \u001b[0mI\u001b[0m\u001b[1;33m,\u001b[0m \u001b[0mII\u001b[0m\u001b[1;33m)\u001b[0m\u001b[1;33m:\u001b[0m\u001b[1;33m\u001b[0m\u001b[1;33m\u001b[0m\u001b[0m\n\u001b[0;32m      2\u001b[0m     \u001b[0mtemp\u001b[0m \u001b[1;33m=\u001b[0m \u001b[0mA\u001b[0m\u001b[1;33m[\u001b[0m\u001b[0mI\u001b[0m\u001b[1;33m]\u001b[0m\u001b[1;33m\u001b[0m\u001b[1;33m\u001b[0m\u001b[0m\n\u001b[1;32m----> 3\u001b[1;33m     \u001b[0mA\u001b[0m\u001b[1;33m[\u001b[0m\u001b[0mI\u001b[0m\u001b[1;33m]\u001b[0m \u001b[1;33m=\u001b[0m \u001b[0mA\u001b[0m\u001b[1;33m[\u001b[0m\u001b[0mII\u001b[0m\u001b[1;33m]\u001b[0m\u001b[1;33m\u001b[0m\u001b[1;33m\u001b[0m\u001b[0m\n\u001b[0m\u001b[0;32m      4\u001b[0m     \u001b[0mA\u001b[0m\u001b[1;33m[\u001b[0m\u001b[0mII\u001b[0m\u001b[1;33m]\u001b[0m \u001b[1;33m=\u001b[0m \u001b[0mtemp\u001b[0m\u001b[1;33m\u001b[0m\u001b[1;33m\u001b[0m\u001b[0m\n\u001b[0;32m      5\u001b[0m     \u001b[1;32mreturn\u001b[0m\u001b[1;33m\u001b[0m\u001b[1;33m\u001b[0m\u001b[0m\n",
      "\u001b[1;31mTypeError\u001b[0m: 'str' object does not support item assignment"
     ]
    }
   ],
   "source": [
    "def swap2(A, I, II):\n",
    "    temp = A[I]\n",
    "    A[I] = A[II]\n",
    "    A[II] = temp\n",
    "    return \n",
    "\n",
    "out = ['az']\n",
    "\n",
    "def test_swap2(inp):\n",
    "    swap2(out[0], 0, len(out)-1)\n",
    "    return inp\n",
    "print(out)\n",
    "print(test_swap2('boobs'))\n",
    "print(out)"
   ]
  },
  {
   "cell_type": "code",
   "execution_count": 12,
   "metadata": {},
   "outputs": [
    {
     "name": "stdout",
     "output_type": "stream",
     "text": [
      "512340\n"
     ]
    }
   ],
   "source": [
    "def swap2(arr, i1, i2):\n",
    "    out = arr\n",
    "    out = out[:i1] + out[i2] + out[i1+1:]\n",
    "    out = out[:i2] + arr[i1] + out[i2+1:]\n",
    "    return out\n",
    "\n",
    "print(swap2('012345', 0, 5))"
   ]
  },
  {
   "cell_type": "code",
   "execution_count": null,
   "metadata": {},
   "outputs": [],
   "source": []
  }
 ],
 "metadata": {
  "kernelspec": {
   "display_name": "Python 3",
   "language": "python",
   "name": "python3"
  },
  "language_info": {
   "codemirror_mode": {
    "name": "ipython",
    "version": 3
   },
   "file_extension": ".py",
   "mimetype": "text/x-python",
   "name": "python",
   "nbconvert_exporter": "python",
   "pygments_lexer": "ipython3",
   "version": "3.7.6"
  }
 },
 "nbformat": 4,
 "nbformat_minor": 4
}
