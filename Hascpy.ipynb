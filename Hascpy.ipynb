{
 "cells": [
  {
   "cell_type": "code",
   "execution_count": 10,
   "metadata": {},
   "outputs": [
    {
     "ename": "SyntaxError",
     "evalue": "invalid syntax (<ipython-input-10-afd3da4a5745>, line 29)",
     "output_type": "error",
     "traceback": [
      "\u001b[1;36m  File \u001b[1;32m\"<ipython-input-10-afd3da4a5745>\"\u001b[1;36m, line \u001b[1;32m29\u001b[0m\n\u001b[1;33m    return args *\u001b[0m\n\u001b[1;37m                 ^\u001b[0m\n\u001b[1;31mSyntaxError\u001b[0m\u001b[1;31m:\u001b[0m invalid syntax\n"
     ]
    }
   ],
   "source": [
    "#Hascpy.ipynb\n",
    "#author: Kyle Carlton Larson\n",
    "#Purpose: Codewars\n",
    "def zero(): #your code here\n",
    "    \n",
    "    return 0\n",
    "def one(): #your code here\n",
    "    if args:\n",
    "        return args(args)\n",
    "    else:\n",
    "        return 1\n",
    "def two(): #your code here\n",
    "    if args:\n",
    "        return two(args)\n",
    "    else:\n",
    "        return 2\n",
    "def three(): #your code here\n",
    "    if args:\n",
    "        return three(args)\n",
    "    else:\n",
    "        return 3\n",
    "def four(): #your code here\n",
    "    return args * 4\n",
    "def five(): #your code here\n",
    "    return args * 5\n",
    "def six(): #your code here\n",
    "    return args * 6\n",
    "def seven(): #your code here\n",
    "    return args *\n",
    "def eight(): #your code here\n",
    "def nine(): #your code here\n",
    "\n",
    "def plus(): #your code here\n",
    "    return \n",
    "def minus(): #your code here\n",
    "def times(): #your code here\n",
    "def divided_by(): #your code here"
   ]
  },
  {
   "cell_type": "code",
   "execution_count": 48,
   "metadata": {},
   "outputs": [
    {
     "name": "stdout",
     "output_type": "stream",
     "text": [
      "\n",
      "[(4,), '+']\n",
      "4\n"
     ]
    }
   ],
   "source": [
    "#backwork: trying to find a way\n",
    "def plus(*args):\n",
    "    return [args, '+']\n",
    "\n",
    "def four(*args):\n",
    "    #if(*args):\n",
    "       # if(callable(*args)):\n",
    "    print(*args) \n",
    "    #else:\n",
    "            #value = 4 + *args(0)\n",
    "    return 4\n",
    "    \n",
    "#def backwork(func):\n",
    "    #value = 10\n",
    "    #if(func!=NULL):\n",
    "    #    return backwork + func\n",
    "    #else: \n",
    "    #return func(value)\n",
    "print(four(plus(four())))#four("
   ]
  },
  {
   "cell_type": "code",
   "execution_count": null,
   "metadata": {},
   "outputs": [],
   "source": []
  }
 ],
 "metadata": {
  "kernelspec": {
   "display_name": "Python 3",
   "language": "python",
   "name": "python3"
  },
  "language_info": {
   "codemirror_mode": {
    "name": "ipython",
    "version": 3
   },
   "file_extension": ".py",
   "mimetype": "text/x-python",
   "name": "python",
   "nbconvert_exporter": "python",
   "pygments_lexer": "ipython3",
   "version": "3.7.6"
  }
 },
 "nbformat": 4,
 "nbformat_minor": 4
}
