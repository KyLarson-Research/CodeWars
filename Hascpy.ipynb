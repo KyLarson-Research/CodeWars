{
 "cells": [
  {
   "cell_type": "code",
   "execution_count": 46,
   "metadata": {},
   "outputs": [],
   "source": [
    "#Hascpy.ipynb\n",
    "#author: Kyle Carlton Larson\n",
    "#Purpose: Codewars Calculating with Functions\n",
    "import operator\n",
    "_ops = { \"+\": operator.add, \"-\": operator.sub, \"*\": operator.mul, \"/\": operator.floordiv }\n",
    "def zero(*args):\n",
    "    if(len(list(*args))!=0):\n",
    "        return _ops[list(*args)[1]](0, int(list(*args)[0]))\n",
    "    else:\n",
    "        return 0 #your code here\n",
    "def one(*args):\n",
    "    if(len(list(*args))!=0):\n",
    "        return _ops[list(*args)[1]](1, int(list(*args)[0]))\n",
    "    else:\n",
    "        return 1 #your code here\n",
    "def two(*args):\n",
    "    if(len(list(*args))!=0):\n",
    "        return _ops[list(*args)[1]](2, int(list(*args)[0]))\n",
    "    else:\n",
    "        return 2 #your code here\n",
    "def three(*args):\n",
    "    if(len(list(*args))!=0):\n",
    "        return _ops[list(*args)[1]](3, int(list(*args)[0]))\n",
    "    else:\n",
    "        return 3 #your code here\n",
    "def four(*args):\n",
    "    if(len(list(*args))!=0):\n",
    "        return _ops[list(*args)[1]](4, int(list(*args)[0]))\n",
    "    else:\n",
    "        return 4 #your code here\n",
    "def five(*args):\n",
    "    if(len(list(*args))!=0):\n",
    "        return _ops[list(*args)[1]](5, int(list(*args)[0]))\n",
    "    else:\n",
    "        return 5 #your code here\n",
    "def six(*args):\n",
    "    if(len(list(*args))!=0):\n",
    "        return _ops[list(*args)[1]](6, int(list(*args)[0]))\n",
    "    else:\n",
    "        return 6 #your code here\n",
    "def seven(*args):\n",
    "    if(len(list(*args))!=0):\n",
    "        return _ops[list(*args)[1]](7, int(list(*args)[0]))\n",
    "    else:\n",
    "        return 7 #your code here\n",
    "def eight(*args):\n",
    "    if(len(list(*args))!=0):\n",
    "        return _ops[list(*args)[1]](8, int(list(*args)[0]))\n",
    "    else:\n",
    "        return 8 #your code here\n",
    "def nine(*args):\n",
    "    if(len(list(*args))!=0):\n",
    "        return _ops[list(*args)[1]](9, int(list(*args)[0]))\n",
    "    else:\n",
    "        return 9 #your code here\n",
    "\n",
    "def plus(*args):\n",
    "    return (*args, \"+\") #your code here\n",
    "def minus(*args):\n",
    "    return (*args, \"-\") #your code here\n",
    "def times(*args):\n",
    "    return (*args, \"*\") #your code here\n",
    "def divided_by(*args):\n",
    "    return (*args, \"/\") #your code here"
   ]
  },
  {
   "cell_type": "code",
   "execution_count": 47,
   "metadata": {},
   "outputs": [
    {
     "name": "stdout",
     "output_type": "stream",
     "text": [
      "8\n"
     ]
    }
   ],
   "source": [
    "#backwork: trying to find a way\n",
    "#found a way here: https://stackoverflow.com/questions/1740726/turn-string-into-operator\n",
    "#credit to https://stackoverflow.com/users/202555/amnon\n",
    "import operator\n",
    "ops = { \"+\": operator.add, \"-\": operator.sub, \"*\": operator.mul, \"/\": operator.floordiv } # etc.\n",
    "\n",
    "#print ops[\"+\"](1,1) # prints 2\n",
    "\n",
    "def plus(*args):\n",
    "    return (*args, '+')\n",
    "\n",
    "def four(*args):\n",
    "    if(len(list(*args))!=0):\n",
    "        return ops[list(*args)[1]](int(list(*args)[0]),4)\n",
    "    else:\n",
    "        return 4\n",
    "\n",
    "print(four(plus(four())))#four("
   ]
  },
  {
   "cell_type": "code",
   "execution_count": 48,
   "metadata": {},
   "outputs": [
    {
     "name": "stdout",
     "output_type": "stream",
     "text": [
      "35\n"
     ]
    }
   ],
   "source": [
    "print(seven(times(five())))"
   ]
  },
  {
   "cell_type": "code",
   "execution_count": 49,
   "metadata": {},
   "outputs": [
    {
     "name": "stdout",
     "output_type": "stream",
     "text": [
      "13\n"
     ]
    }
   ],
   "source": [
    "print(four(plus(nine())))"
   ]
  },
  {
   "cell_type": "code",
   "execution_count": 54,
   "metadata": {},
   "outputs": [
    {
     "name": "stdout",
     "output_type": "stream",
     "text": [
      "2\n"
     ]
    }
   ],
   "source": [
    "print(eight(divided_by(three())))"
   ]
  },
  {
   "cell_type": "code",
   "execution_count": 51,
   "metadata": {},
   "outputs": [
    {
     "name": "stdout",
     "output_type": "stream",
     "text": [
      "7\n"
     ]
    }
   ],
   "source": [
    "print(six(plus(one())))"
   ]
  },
  {
   "cell_type": "code",
   "execution_count": 52,
   "metadata": {},
   "outputs": [
    {
     "name": "stdout",
     "output_type": "stream",
     "text": [
      "6\n"
     ]
    }
   ],
   "source": [
    "print(six(divided_by(one())))"
   ]
  },
  {
   "cell_type": "code",
   "execution_count": 53,
   "metadata": {},
   "outputs": [
    {
     "name": "stdout",
     "output_type": "stream",
     "text": [
      "6\n"
     ]
    }
   ],
   "source": [
    "print(six(times(one())))"
   ]
  },
  {
   "cell_type": "code",
   "execution_count": null,
   "metadata": {},
   "outputs": [],
   "source": []
  },
  {
   "cell_type": "code",
   "execution_count": null,
   "metadata": {},
   "outputs": [],
   "source": []
  },
  {
   "cell_type": "code",
   "execution_count": null,
   "metadata": {},
   "outputs": [],
   "source": []
  }
 ],
 "metadata": {
  "kernelspec": {
   "display_name": "Python 3",
   "language": "python",
   "name": "python3"
  },
  "language_info": {
   "codemirror_mode": {
    "name": "ipython",
    "version": 3
   },
   "file_extension": ".py",
   "mimetype": "text/x-python",
   "name": "python",
   "nbconvert_exporter": "python",
   "pygments_lexer": "ipython3",
   "version": "3.7.6"
  }
 },
 "nbformat": 4,
 "nbformat_minor": 4
}
