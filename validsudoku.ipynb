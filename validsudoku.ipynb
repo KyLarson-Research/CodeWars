{
 "cells": [
  {
   "cell_type": "code",
   "execution_count": 98,
   "metadata": {},
   "outputs": [],
   "source": [
    "def valid_subsquare(sub):\n",
    "    check3 = [1, 2, 3, 4, 5, 6, 7, 8, 9]\n",
    "    check_score = [0,0,0,0,0,0,0,0,0]\n",
    "    checks3=0\n",
    "    for i in range(len(sub)):\n",
    "        for j in range(len(sub)):\n",
    "            for l in range(len(check3)):\n",
    "                if(check3[l] == sub[i][j]):\n",
    "                    check_score[l]+=1\n",
    "    for k in range(len(check_score)):\n",
    "        if(check_score[k]==1):\n",
    "            checks3 +=1\n",
    "    return checks3\n",
    "\n",
    "def check_subs(subsquare_board):\n",
    "    checks2 =0\n",
    "    checks2+=valid_subsquare( [subsquare_board[:3][0][:3],  subsquare_board[:3][1][:3], subsquare_board[:3][2][:3]] )\n",
    "    checks2+=valid_subsquare( [subsquare_board[:3][0][3:6],  subsquare_board[:3][1][3:6], subsquare_board[:3][2][3:6]])\n",
    "    checks2+=valid_subsquare( [subsquare_board[:3][0][6:9],  subsquare_board[:3][1][6:9], subsquare_board[:3][2][6:9]])\n",
    "    checks2+=valid_subsquare( [subsquare_board[3:6][0][:3],  subsquare_board[3:6][1][:3], subsquare_board[3:6][2][:3]])\n",
    "    checks2+=valid_subsquare( [subsquare_board[3:6][0][3:6],  subsquare_board[3:6][1][3:6], subsquare_board[3:6][2][3:6]])\n",
    "    checks2+=valid_subsquare( [subsquare_board[3:6][0][6:9],  subsquare_board[3:6][1][6:9], subsquare_board[3:6][2][6:9]])\n",
    "    checks2+=valid_subsquare( [subsquare_board[6:9][0][:3],  subsquare_board[6:9][1][:3], subsquare_board[6:9][2][:3]])\n",
    "    checks2+=valid_subsquare( [subsquare_board[6:9][0][3:6],  subsquare_board[6:9][1][3:6], subsquare_board[6:9][2][3:6]])\n",
    "    checks2+=valid_subsquare( [subsquare_board[6:9][0][6:9],  subsquare_board[6:9][1][6:9], subsquare_board[6:9][2][6:9]])\n",
    "    return checks2\n",
    "\n",
    "def valid_solution(board):\n",
    "    rows_check_flag =[0,0,0,0,0,0,0,0,0]\n",
    "    cols_check_flag =[0,0,0,0,0,0,0,0,0]\n",
    "    sub_square_check =[0,0,0,0,0,0,0,0,0]\n",
    "    check = [1, 2, 3, 4, 5, 6, 7, 8, 9]\n",
    "    checks =0\n",
    "    #rows\n",
    "    for i in range(len(board)):\n",
    "        for j in range(len(board)):\n",
    "            for k in range(len(check)):\n",
    "                if(check[k]==board[i][j]):\n",
    "                    rows_check_flag[k] +=1\n",
    "            for l in range(len(rows_check_flag)):\n",
    "                if(rows_check_flag[l]>0):\n",
    "                    rows_check_flag[l]=0\n",
    "                    checks+=1\n",
    "    if checks < 81: \n",
    "        return 0\n",
    "    #columns\n",
    "    for i in range(len(board)):\n",
    "        for j in range(len(board)):\n",
    "            for k in range(len(check)):\n",
    "                if(check[k]==board[j][i]):\n",
    "                    cols_check_flag[k] +=1\n",
    "            for l in range(len(cols_check_flag)):\n",
    "                if(cols_check_flag[l]>0):\n",
    "                    cols_check_flag[l]=0\n",
    "                    checks+=1\n",
    "    if checks < 162 :\n",
    "        return 0\n",
    "    print(checks)\n",
    "    if check_subs(board) != 81:\n",
    "        return 0\n",
    "    else:\n",
    "        print(checks)\n",
    "        return checks - 161"
   ]
  },
  {
   "cell_type": "code",
   "execution_count": 92,
   "metadata": {},
   "outputs": [
    {
     "name": "stdout",
     "output_type": "stream",
     "text": [
      "[1, 2, 3]\n"
     ]
    }
   ],
   "source": [
    "check = [1, 2, 3, 4, 5, 6, 7, 8, 9]\n",
    "board = [check, check, check, check, check, check, check, check, check]\n",
    "print(check[:3])"
   ]
  },
  {
   "cell_type": "code",
   "execution_count": 93,
   "metadata": {},
   "outputs": [
    {
     "name": "stdout",
     "output_type": "stream",
     "text": [
      "False\n"
     ]
    }
   ],
   "source": [
    "print(valid_solution(board))"
   ]
  },
  {
   "cell_type": "code",
   "execution_count": 94,
   "metadata": {},
   "outputs": [
    {
     "name": "stdout",
     "output_type": "stream",
     "text": [
      "[[0, 0, 0, 1, 1, 1, 0, 0, 0], [0, 0, 0, 1, 1, 1, 0, 0, 0], [0, 0, 0, 1, 1, 1, 0, 0, 0], [0, 0, 0, 1, 2, 3, 0, 0, 0], [0, 0, 0, 4, 5, 6, 0, 0, 0], [0, 0, 0, 7, 8, 9, 0, 0, 0], [0, 0, 0, 1, 1, 1, 0, 0, 0], [0, 0, 0, 1, 1, 1, 0, 0, 0], [0, 0, 0, 1, 1, 1, 0, 0, 0]]\n"
     ]
    }
   ],
   "source": [
    "zeros = [0,0,0,1,1,1,0,0,0]\n",
    "zeros_t = [0,0,0]\n",
    "subsquare_board = [zeros, zeros, zeros, zeros_t+ check[:3]+ zeros_t, zeros_t+ check[3:6]+ zeros_t, zeros_t+ check[6:9]+ zeros_t, zeros, zeros, zeros]\n",
    "print(subsquare_board)"
   ]
  },
  {
   "cell_type": "code",
   "execution_count": 95,
   "metadata": {},
   "outputs": [
    {
     "name": "stdout",
     "output_type": "stream",
     "text": [
      "[[7, 8, 9], [1, 2, 3], [4, 5, 6]]\n"
     ]
    }
   ],
   "source": [
    "subsquare= [subsquare_board[3:6][2][3:6],  subsquare_board[3:6][0][3:6], subsquare_board[3:6][1][3:6]]\n",
    "print(subsquare)"
   ]
  },
  {
   "cell_type": "code",
   "execution_count": 96,
   "metadata": {},
   "outputs": [
    {
     "name": "stdout",
     "output_type": "stream",
     "text": [
      "9\n"
     ]
    }
   ],
   "source": [
    "print(valid_subsquare(subsquare))"
   ]
  },
  {
   "cell_type": "code",
   "execution_count": 97,
   "metadata": {},
   "outputs": [
    {
     "name": "stdout",
     "output_type": "stream",
     "text": [
      "[[0, 0, 0], [0, 0, 0], [0, 0, 0]]\n",
      "[[1, 1, 1], [1, 1, 1], [1, 1, 1]]\n",
      "[[1, 2, 3], [4, 5, 6], [7, 8, 9]]\n"
     ]
    }
   ],
   "source": [
    "sub1= [subsquare_board[:3][0][:3],  subsquare_board[:3][1][:3], subsquare_board[:3][2][:3]]\n",
    "sub2= [subsquare_board[:3][0][3:6],  subsquare_board[:3][1][3:6], subsquare_board[:3][2][3:6]]\n",
    "sub5= [subsquare_board[3:6][0][3:6],  subsquare_board[3:6][1][3:6], subsquare_board[3:6][2][3:6]]\n",
    "print(sub1)\n",
    "print(sub2)\n",
    "print(sub5)"
   ]
  },
  {
   "cell_type": "code",
   "execution_count": 99,
   "metadata": {},
   "outputs": [
    {
     "data": {
      "text/plain": [
       "-15"
      ]
     },
     "execution_count": 99,
     "metadata": {},
     "output_type": "execute_result"
    }
   ],
   "source": [
    "146 - 161"
   ]
  },
  {
   "cell_type": "code",
   "execution_count": 169,
   "metadata": {},
   "outputs": [],
   "source": [
    "# validsudoku.ipynb\n",
    "# Author Kyle Larson\n",
    "# Purpose to tell whether the sudoku solution is valid\n",
    "\n",
    "def valid_subsquare(sub):\n",
    "    \n",
    "    checks3=0\n",
    "    for i in range(0,3):\n",
    "        for j in range(0,3):\n",
    "            checks3+=sub[i][j]\n",
    "            \n",
    "    print(checks3)\n",
    "    if(checks3 != 45):\n",
    "        return 0\n",
    "    else:\n",
    "        return checks3\n",
    "\n",
    "def check_subs(subsquare_board):\n",
    "    checks2 =0\n",
    "    checks2+=valid_subsquare( [subsquare_board[:3][0][:3],  subsquare_board[:3][1][:3], subsquare_board[:3][2][:3]] )\n",
    "    checks2+=valid_subsquare( [subsquare_board[:3][0][3:6],  subsquare_board[:3][1][3:6], subsquare_board[:3][2][3:6]])\n",
    "    checks2+=valid_subsquare( [subsquare_board[:3][0][6:9],  subsquare_board[:3][1][6:9], subsquare_board[:3][2][6:9]])\n",
    "    checks2+=valid_subsquare( [subsquare_board[3:6][0][:3],  subsquare_board[3:6][1][:3], subsquare_board[3:6][2][:3]])\n",
    "    checks2+=valid_subsquare( [subsquare_board[3:6][0][3:6],  subsquare_board[3:6][1][3:6], subsquare_board[3:6][2][3:6]])\n",
    "    checks2+=valid_subsquare( [subsquare_board[3:6][0][6:9],  subsquare_board[3:6][1][6:9], subsquare_board[3:6][2][6:9]])\n",
    "    checks2+=valid_subsquare( [subsquare_board[6:9][0][:3],  subsquare_board[6:9][1][:3], subsquare_board[6:9][2][:3]])\n",
    "    checks2+=valid_subsquare( [subsquare_board[6:9][0][3:6],  subsquare_board[6:9][1][3:6], subsquare_board[6:9][2][3:6]])\n",
    "    checks2+=valid_subsquare( [subsquare_board[6:9][0][6:9],  subsquare_board[6:9][1][6:9], subsquare_board[6:9][2][6:9]])\n",
    "    return checks2\n",
    "\n",
    "def valid_solution(board):\n",
    "    rows_check_flag =0\n",
    "    cols_check_flag =0\n",
    "    fuck = [0,0,0,0,0,0,0,0,0]\n",
    "    #rows\n",
    "    for i in range(len(board)):\n",
    "        print(board[i])\n",
    "        for j in range(len(board)):\n",
    "            \n",
    "            rows_check_flag += board[i][j] \n",
    "                    \n",
    "            cols_check_flag += board[j][i]\n",
    "            fuck[j]=board[j][i]\n",
    "            if board[i][j] < 1 or board[i][j] > 9:\n",
    "                print(1)\n",
    "                return False\n",
    "        for l in range(1,9):\n",
    "            for k in range(l+1, 9):\n",
    "                if fuck[l] == fuck[k]:\n",
    "                    print('dumbest puzzle ever')\n",
    "                    return False\n",
    "        fuck = [0,0,0,0,0,0,0,0,0]\n",
    "    if(rows_check_flag  != 405 or cols_check_flag != 405 ) :\n",
    "        print(rows_check_flag)\n",
    "        print(cols_check_flag)\n",
    "        rows_check_flag=0\n",
    "        cols_check_flag=0\n",
    "        return False             \n",
    "    \n",
    "    if check_subs(board) == 45*9:\n",
    "        return True\n",
    "    else:\n",
    "        return False"
   ]
  },
  {
   "cell_type": "code",
   "execution_count": 170,
   "metadata": {},
   "outputs": [],
   "source": [
    "board =              [ [1, 3, 2, 5, 7, 9, 4, 6, 8],\n",
    "[4, 9, 8, 2, 6, 1, 3, 7, 5],\n",
    "[7, 5, 6, 3, 8, 4, 2, 1, 9],\n",
    "[6, 4, 3, 1, 5, 8, 7, 9, 2],\n",
    "[5, 2, 1, 7, 9, 3, 8, 4, 6],\n",
    "[9, 8, 7, 4, 2, 6, 5, 3, 1],\n",
    "[2, 1, 4, 9, 3, 5, 6, 8, 7],\n",
    "[3, 6, 5, 8, 1, 7, 9, 2, 4],\n",
    "[8, 7, 9, 6, 4, 2, 1, 3, 5] ]"
   ]
  },
  {
   "cell_type": "code",
   "execution_count": 171,
   "metadata": {},
   "outputs": [
    {
     "name": "stdout",
     "output_type": "stream",
     "text": [
      "[1, 3, 2, 5, 7, 9, 4, 6, 8]\n",
      "[4, 9, 8, 2, 6, 1, 3, 7, 5]\n",
      "[7, 5, 6, 3, 8, 4, 2, 1, 9]\n",
      "[6, 4, 3, 1, 5, 8, 7, 9, 2]\n",
      "[5, 2, 1, 7, 9, 3, 8, 4, 6]\n",
      "[9, 8, 7, 4, 2, 6, 5, 3, 1]\n",
      "[2, 1, 4, 9, 3, 5, 6, 8, 7]\n",
      "[3, 6, 5, 8, 1, 7, 9, 2, 4]\n",
      "dumbest puzzle ever\n"
     ]
    },
    {
     "data": {
      "text/plain": [
       "False"
      ]
     },
     "execution_count": 171,
     "metadata": {},
     "output_type": "execute_result"
    }
   ],
   "source": [
    "valid_solution(board)"
   ]
  },
  {
   "cell_type": "code",
   "execution_count": null,
   "metadata": {},
   "outputs": [],
   "source": []
  }
 ],
 "metadata": {
  "kernelspec": {
   "display_name": "Python 3",
   "language": "python",
   "name": "python3"
  },
  "language_info": {
   "codemirror_mode": {
    "name": "ipython",
    "version": 3
   },
   "file_extension": ".py",
   "mimetype": "text/x-python",
   "name": "python",
   "nbconvert_exporter": "python",
   "pygments_lexer": "ipython3",
   "version": "3.7.6"
  }
 },
 "nbformat": 4,
 "nbformat_minor": 4
}
