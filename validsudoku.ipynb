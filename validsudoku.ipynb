{
 "cells": [
  {
   "cell_type": "code",
   "execution_count": null,
   "metadata": {},
   "outputs": [],
   "source": [
    "# validsudoku.ipynb\n",
    "# Author Kyle Larson\n",
    "# Purpose to tell whether the sudoku solution is valid\n",
    "def valid_solution(board):\n",
    "    rows_check_flag =0\n",
    "    cols_check_flag =0\n",
    "    sub_square_check =0\n",
    "    if(rows_check_flag+cols_check_flag+sub_square_check==3):\n",
    "        return True\n",
    "    else:\n",
    "        return False"
   ]
  }
 ],
 "metadata": {
  "kernelspec": {
   "display_name": "Python 3",
   "language": "python",
   "name": "python3"
  },
  "language_info": {
   "codemirror_mode": {
    "name": "ipython",
    "version": 3
   },
   "file_extension": ".py",
   "mimetype": "text/x-python",
   "name": "python",
   "nbconvert_exporter": "python",
   "pygments_lexer": "ipython3",
   "version": "3.7.6"
  }
 },
 "nbformat": 4,
 "nbformat_minor": 4
}
