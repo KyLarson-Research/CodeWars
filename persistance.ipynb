{
 "cells": [
  {
   "cell_type": "code",
   "execution_count": null,
   "metadata": {},
   "outputs": [],
   "source": [
    "#File Name: puzzles.py\n",
    "#author: Kyle C Larson\n",
    "#purpose: various scripts for python practice\n"
   ]
  },
  {
   "cell_type": "code",
   "execution_count": 4,
   "metadata": {},
   "outputs": [
    {
     "name": "stdout",
     "output_type": "stream",
     "text": [
      "hello!\n",
      "my\n",
      "name\n",
      "is\n",
      "skrillex\n"
     ]
    }
   ],
   "source": [
    "def split_it(text):\n",
    "    #your code here\n",
    "    text = text.split(' ')\n",
    "    for c in text:\n",
    "        print(c)\n",
    "        \n",
    "pig_it('hello! my name is skrillex')"
   ]
  },
  {
   "cell_type": "code",
   "execution_count": 20,
   "metadata": {},
   "outputs": [
    {
     "name": "stdout",
     "output_type": "stream",
     "text": [
      "igPay atinlay siay oolcay\n"
     ]
    }
   ],
   "source": [
    "# Author: Kyle Larson\n",
    "# Purpose: generate the pig latin version of a string\n",
    "\n",
    "def pig_it(text):\n",
    "    #your code here\n",
    "    text = text.split(' ')\n",
    "    exttay = ''\n",
    "    for c in text:\n",
    "        #ensure there are no punctuation marks\n",
    "        if(c!='!' and c!='?' and c!='.' and c!='-' and c!='(' and c!=')'):\n",
    "            #put the first character on the end\n",
    "            c += c[0] \n",
    "            #remove the first character\n",
    "            c = c[1:len(c)]\n",
    "            #add the ay to the end\n",
    "            c += 'ay'\n",
    "        #collect all substrings\n",
    "        exttay += c + ' ' \n",
    "    #remove the extra space at the end of the superstring\n",
    "    exttay = exttay[0:len(exttay)-1]\n",
    "    #return the result\n",
    "    return exttay\n",
    "print(pig_it('Pig latin is cool'))"
   ]
  },
  {
   "cell_type": "code",
   "execution_count": 25,
   "metadata": {},
   "outputs": [
    {
     "name": "stdout",
     "output_type": "stream",
     "text": [
      "2\n"
     ]
    }
   ],
   "source": [
    "#Author Kyle Larson\n",
    "#purpose: to return the sum of the digits until only one digit remains\n",
    "def digital_root(n):\n",
    "    # ...\n",
    "    if n<10: #the termination condition\n",
    "        return n\n",
    "    else: #if not terminating then \n",
    "        N = str(n)\n",
    "        newN =0\n",
    "        for c in N:#iterate through the string version adding integer versions of chars\n",
    "            newN += int(c)\n",
    "        return digital_root(newN)\n",
    "    \n",
    "print(digital_root(493193))"
   ]
  },
  {
   "cell_type": "code",
   "execution_count": 34,
   "metadata": {},
   "outputs": [
    {
     "name": "stdout",
     "output_type": "stream",
     "text": [
      "2\n"
     ]
    }
   ],
   "source": [
    "#Author Kyle Larson\n",
    "#Purpose: to return the number of times the product of digits may be performed before one digit remains\n",
    "\n",
    "def persistence(n):\n",
    "    # my code as based on the submission of digital_root(n)\n",
    "    times =0\n",
    "    while n>9:\n",
    "        N = str(n)\n",
    "        newN =1\n",
    "        for c in N:#iterate through the string version adding integer versions of chars\n",
    "            newN *= int(c)\n",
    "        times +=1\n",
    "        n = newN\n",
    "    return times\n",
    "print(persistence(25))"
   ]
  },
  {
   "cell_type": "code",
   "execution_count": null,
   "metadata": {},
   "outputs": [],
   "source": []
  }
 ],
 "metadata": {
  "kernelspec": {
   "display_name": "Python 3",
   "language": "python",
   "name": "python3"
  },
  "language_info": {
   "codemirror_mode": {
    "name": "ipython",
    "version": 3
   },
   "file_extension": ".py",
   "mimetype": "text/x-python",
   "name": "python",
   "nbconvert_exporter": "python",
   "pygments_lexer": "ipython3",
   "version": "3.7.6"
  }
 },
 "nbformat": 4,
 "nbformat_minor": 4
}
