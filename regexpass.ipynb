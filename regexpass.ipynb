{
 "cells": [
  {
   "cell_type": "code",
   "execution_count": 2,
   "metadata": {},
   "outputs": [
    {
     "name": "stdout",
     "output_type": "stream",
     "text": [
      "<re.Match object; span=(0, 6), match='sixcha'>\n"
     ]
    }
   ],
   "source": [
    "# regexpass.ipynb\n",
    "# Author: Kyle Carlton Larson\n",
    "# Purpose: Codewars practice of python 'Regex Password Validation'\n",
    "import re\n",
    "test = 'sixchars'\n",
    "x = re.search(\".{6}\",test)\n",
    "if x:\n",
    "    print(x)\n",
    "else:\n",
    "    print('bummer'+str(x))"
   ]
  },
  {
   "cell_type": "code",
   "execution_count": 3,
   "metadata": {},
   "outputs": [
    {
     "name": "stdout",
     "output_type": "stream",
     "text": [
      "bummerNone\n"
     ]
    }
   ],
   "source": [
    "import re\n",
    "test = '_'\n",
    "x = re.search(\"[a-z]\",test)\n",
    "if x:\n",
    "    print(x)\n",
    "else:\n",
    "    print('bummer'+str(x))"
   ]
  },
  {
   "cell_type": "code",
   "execution_count": 4,
   "metadata": {},
   "outputs": [
    {
     "name": "stdout",
     "output_type": "stream",
     "text": [
      "<re.Match object; span=(0, 1), match='X'>\n"
     ]
    }
   ],
   "source": [
    "import re\n",
    "test = 'X'\n",
    "x = re.search(\"[A-Z]\",test)\n",
    "if x:\n",
    "    print(x)\n",
    "else:\n",
    "    print('bummer'+str(x))"
   ]
  },
  {
   "cell_type": "code",
   "execution_count": 5,
   "metadata": {},
   "outputs": [
    {
     "name": "stdout",
     "output_type": "stream",
     "text": [
      "<re.Match object; span=(0, 1), match='8'>\n"
     ]
    }
   ],
   "source": [
    "import re\n",
    "test = '8'\n",
    "x = re.search(\"[0-9]\",test)\n",
    "if x:\n",
    "    print(x)\n",
    "else:\n",
    "    print('bummer'+str(x))"
   ]
  },
  {
   "cell_type": "code",
   "execution_count": 107,
   "metadata": {},
   "outputs": [
    {
     "name": "stdout",
     "output_type": "stream",
     "text": [
      "<re.Match object; span=(0, 7), match='gg9fj32'>\n"
     ]
    }
   ],
   "source": [
    "import re\n",
    "test = 'gg9fj32'\n",
    "x = re.search(\"^[a-zA-Z0-9]+$\",test)\n",
    "if x:\n",
    "    print(x)\n",
    "else:\n",
    "    print('bummer'+str(x))"
   ]
  },
  {
   "cell_type": "code",
   "execution_count": 93,
   "metadata": {},
   "outputs": [
    {
     "name": "stdout",
     "output_type": "stream",
     "text": [
      "16740\n"
     ]
    }
   ],
   "source": [
    "#try to find all of the possible combos of the 3 types into 6 slots\n",
    "\n",
    "\n",
    "#https://stackoverflow.com/questions/34559663/convert-decimal-to-ternarybase3-in-python\n",
    "def ternary (n):    \n",
    "    if n == 0: #poke's solution from the above\n",
    "        return '0'\n",
    "    nums = []\n",
    "    while n:\n",
    "        n, r = divmod(n, 3)\n",
    "        nums.append(str(r))\n",
    "    return ''.join(reversed(nums))\n",
    "\n",
    "def ternary_to_specchar(string):\n",
    "    a = '[a-z]'\n",
    "    b = '[A-Z]'\n",
    "    c = '[0-9]'\n",
    "    newstring  = ''\n",
    "    for ch in string:\n",
    "        if(ch == '0'):\n",
    "            newstring+= a\n",
    "        elif(ch == '1'):\n",
    "            newstring+= b\n",
    "        elif(ch == '2'):\n",
    "            newstring+= c\n",
    "    return newstring\n",
    "\n",
    "def check_reqs(string):\n",
    "    #this checks if a ternary string contains at least one 0, one 1 and one 2\n",
    "    checkbox =[0, 0, 0]\n",
    "    for ch in string:\n",
    "        if(ch == '0' and checkbox[0] == 0):\n",
    "            checkbox[0] =1\n",
    "        if(ch == '1' and checkbox[1] == 0):\n",
    "            checkbox[1] =1\n",
    "        if(ch == '2' and checkbox[2] == 0):\n",
    "            checkbox[2] =1 \n",
    "    if((checkbox[0]+checkbox[1]+checkbox[2] )== 3):\n",
    "        return True\n",
    "    else:\n",
    "        return False\n",
    "\n",
    "def printset(max, leng):\n",
    "    bigstringchunk =''\n",
    "    bigstring =''\n",
    "    for i in range(0, max):#count from 0 to max in base 3\n",
    "        bigstringchunk = ternary(i) #convert each to bigstringchunk\n",
    "        while(len(bigstringchunk) < leng):\n",
    "            bigstringchunk = '0'+bigstringchunk\n",
    "        if(check_reqs(bigstringchunk)):#ensure at least one [a-z], one [A-Z], and [0-9]\n",
    "            bigstring = bigstring +'|'+ ternary_to_specchar(bigstringchunk)\n",
    "    #add each bigstringchunk to bigstring splitting with 'or' |\n",
    "    return bigstring\n",
    "sizesixpw=printset(3**6, 6)\n",
    "print(len(sizesixpw))"
   ]
  },
  {
   "cell_type": "code",
   "execution_count": 94,
   "metadata": {},
   "outputs": [],
   "source": [
    "n=(len(sizesixpw))\n",
    "sizesixpw = '('+sizesixpw[1:n]+')'"
   ]
  },
  {
   "cell_type": "code",
   "execution_count": 95,
   "metadata": {},
   "outputs": [
    {
     "name": "stdout",
     "output_type": "stream",
     "text": [
      "([a-z][a-z][a-z][a-z][A-Z][0-9]|[a-z][a-z][a-z][a-z][0-9][A-Z]|[a-z][a-z][a-z][A-Z][a-z][0-9]|[a-z][a-z][a-z][A-Z][A-Z][0-9]|[a-z][a-z][a-z][A-Z][0-9][a-z]|[a-z][a-z][a-z][A-Z][0-9][A-Z]|[a-z][a-z][a-z][A-Z][0-9][0-9]|[a-z][a-z][a-z][0-9][a-z][A-Z]|[a-z][a-z][a-z][0-9][A-Z][a-z]|[a-z][a-z][a-z][0-9][A-Z][A-Z]|[a-z][a-z][a-z][0-9][A-Z][0-9]|[a-z][a-z][a-z][0-9][0-9][A-Z]|[a-z][a-z][A-Z][a-z][a-z][0-9]|[a-z][a-z][A-Z][a-z][A-Z][0-9]|[a-z][a-z][A-Z][a-z][0-9][a-z]|[a-z][a-z][A-Z][a-z][0-9][A-Z]|[a-z][a-z][A-Z][a-z][0-9][0-9]|[a-z][a-z][A-Z][A-Z][a-z][0-9]|[a-z][a-z][A-Z][A-Z][A-Z][0-9]|[a-z][a-z][A-Z][A-Z][0-9][a-z]|[a-z][a-z][A-Z][A-Z][0-9][A-Z]|[a-z][a-z][A-Z][A-Z][0-9][0-9]|[a-z][a-z][A-Z][0-9][a-z][a-z]|[a-z][a-z][A-Z][0-9][a-z][A-Z]|[a-z][a-z][A-Z][0-9][a-z][0-9]|[a-z][a-z][A-Z][0-9][A-Z][a-z]|[a-z][a-z][A-Z][0-9][A-Z][A-Z]|[a-z][a-z][A-Z][0-9][A-Z][0-9]|[a-z][a-z][A-Z][0-9][0-9][a-z]|[a-z][a-z][A-Z][0-9][0-9][A-Z]|[a-z][a-z][A-Z][0-9][0-9][0-9]|[a-z][a-z][0-9][a-z][a-z][A-Z]|[a-z][a-z][0-9][a-z][A-Z][a-z]|[a-z][a-z][0-9][a-z][A-Z][A-Z]|[a-z][a-z][0-9][a-z][A-Z][0-9]|[a-z][a-z][0-9][a-z][0-9][A-Z]|[a-z][a-z][0-9][A-Z][a-z][a-z]|[a-z][a-z][0-9][A-Z][a-z][A-Z]|[a-z][a-z][0-9][A-Z][a-z][0-9]|[a-z][a-z][0-9][A-Z][A-Z][a-z]|[a-z][a-z][0-9][A-Z][A-Z][A-Z]|[a-z][a-z][0-9][A-Z][A-Z][0-9]|[a-z][a-z][0-9][A-Z][0-9][a-z]|[a-z][a-z][0-9][A-Z][0-9][A-Z]|[a-z][a-z][0-9][A-Z][0-9][0-9]|[a-z][a-z][0-9][0-9][a-z][A-Z]|[a-z][a-z][0-9][0-9][A-Z][a-z]|[a-z][a-z][0-9][0-9][A-Z][A-Z]|[a-z][a-z][0-9][0-9][A-Z][0-9]|[a-z][a-z][0-9][0-9][0-9][A-Z]|[a-z][A-Z][a-z][a-z][a-z][0-9]|[a-z][A-Z][a-z][a-z][A-Z][0-9]|[a-z][A-Z][a-z][a-z][0-9][a-z]|[a-z][A-Z][a-z][a-z][0-9][A-Z]|[a-z][A-Z][a-z][a-z][0-9][0-9]|[a-z][A-Z][a-z][A-Z][a-z][0-9]|[a-z][A-Z][a-z][A-Z][A-Z][0-9]|[a-z][A-Z][a-z][A-Z][0-9][a-z]|[a-z][A-Z][a-z][A-Z][0-9][A-Z]|[a-z][A-Z][a-z][A-Z][0-9][0-9]|[a-z][A-Z][a-z][0-9][a-z][a-z]|[a-z][A-Z][a-z][0-9][a-z][A-Z]|[a-z][A-Z][a-z][0-9][a-z][0-9]|[a-z][A-Z][a-z][0-9][A-Z][a-z]|[a-z][A-Z][a-z][0-9][A-Z][A-Z]|[a-z][A-Z][a-z][0-9][A-Z][0-9]|[a-z][A-Z][a-z][0-9][0-9][a-z]|[a-z][A-Z][a-z][0-9][0-9][A-Z]|[a-z][A-Z][a-z][0-9][0-9][0-9]|[a-z][A-Z][A-Z][a-z][a-z][0-9]|[a-z][A-Z][A-Z][a-z][A-Z][0-9]|[a-z][A-Z][A-Z][a-z][0-9][a-z]|[a-z][A-Z][A-Z][a-z][0-9][A-Z]|[a-z][A-Z][A-Z][a-z][0-9][0-9]|[a-z][A-Z][A-Z][A-Z][a-z][0-9]|[a-z][A-Z][A-Z][A-Z][A-Z][0-9]|[a-z][A-Z][A-Z][A-Z][0-9][a-z]|[a-z][A-Z][A-Z][A-Z][0-9][A-Z]|[a-z][A-Z][A-Z][A-Z][0-9][0-9]|[a-z][A-Z][A-Z][0-9][a-z][a-z]|[a-z][A-Z][A-Z][0-9][a-z][A-Z]|[a-z][A-Z][A-Z][0-9][a-z][0-9]|[a-z][A-Z][A-Z][0-9][A-Z][a-z]|[a-z][A-Z][A-Z][0-9][A-Z][A-Z]|[a-z][A-Z][A-Z][0-9][A-Z][0-9]|[a-z][A-Z][A-Z][0-9][0-9][a-z]|[a-z][A-Z][A-Z][0-9][0-9][A-Z]|[a-z][A-Z][A-Z][0-9][0-9][0-9]|[a-z][A-Z][0-9][a-z][a-z][a-z]|[a-z][A-Z][0-9][a-z][a-z][A-Z]|[a-z][A-Z][0-9][a-z][a-z][0-9]|[a-z][A-Z][0-9][a-z][A-Z][a-z]|[a-z][A-Z][0-9][a-z][A-Z][A-Z]|[a-z][A-Z][0-9][a-z][A-Z][0-9]|[a-z][A-Z][0-9][a-z][0-9][a-z]|[a-z][A-Z][0-9][a-z][0-9][A-Z]|[a-z][A-Z][0-9][a-z][0-9][0-9]|[a-z][A-Z][0-9][A-Z][a-z][a-z]|[a-z][A-Z][0-9][A-Z][a-z][A-Z]|[a-z][A-Z][0-9][A-Z][a-z][0-9]|[a-z][A-Z][0-9][A-Z][A-Z][a-z]|[a-z][A-Z][0-9][A-Z][A-Z][A-Z]|[a-z][A-Z][0-9][A-Z][A-Z][0-9]|[a-z][A-Z][0-9][A-Z][0-9][a-z]|[a-z][A-Z][0-9][A-Z][0-9][A-Z]|[a-z][A-Z][0-9][A-Z][0-9][0-9]|[a-z][A-Z][0-9][0-9][a-z][a-z]|[a-z][A-Z][0-9][0-9][a-z][A-Z]|[a-z][A-Z][0-9][0-9][a-z][0-9]|[a-z][A-Z][0-9][0-9][A-Z][a-z]|[a-z][A-Z][0-9][0-9][A-Z][A-Z]|[a-z][A-Z][0-9][0-9][A-Z][0-9]|[a-z][A-Z][0-9][0-9][0-9][a-z]|[a-z][A-Z][0-9][0-9][0-9][A-Z]|[a-z][A-Z][0-9][0-9][0-9][0-9]|[a-z][0-9][a-z][a-z][a-z][A-Z]|[a-z][0-9][a-z][a-z][A-Z][a-z]|[a-z][0-9][a-z][a-z][A-Z][A-Z]|[a-z][0-9][a-z][a-z][A-Z][0-9]|[a-z][0-9][a-z][a-z][0-9][A-Z]|[a-z][0-9][a-z][A-Z][a-z][a-z]|[a-z][0-9][a-z][A-Z][a-z][A-Z]|[a-z][0-9][a-z][A-Z][a-z][0-9]|[a-z][0-9][a-z][A-Z][A-Z][a-z]|[a-z][0-9][a-z][A-Z][A-Z][A-Z]|[a-z][0-9][a-z][A-Z][A-Z][0-9]|[a-z][0-9][a-z][A-Z][0-9][a-z]|[a-z][0-9][a-z][A-Z][0-9][A-Z]|[a-z][0-9][a-z][A-Z][0-9][0-9]|[a-z][0-9][a-z][0-9][a-z][A-Z]|[a-z][0-9][a-z][0-9][A-Z][a-z]|[a-z][0-9][a-z][0-9][A-Z][A-Z]|[a-z][0-9][a-z][0-9][A-Z][0-9]|[a-z][0-9][a-z][0-9][0-9][A-Z]|[a-z][0-9][A-Z][a-z][a-z][a-z]|[a-z][0-9][A-Z][a-z][a-z][A-Z]|[a-z][0-9][A-Z][a-z][a-z][0-9]|[a-z][0-9][A-Z][a-z][A-Z][a-z]|[a-z][0-9][A-Z][a-z][A-Z][A-Z]|[a-z][0-9][A-Z][a-z][A-Z][0-9]|[a-z][0-9][A-Z][a-z][0-9][a-z]|[a-z][0-9][A-Z][a-z][0-9][A-Z]|[a-z][0-9][A-Z][a-z][0-9][0-9]|[a-z][0-9][A-Z][A-Z][a-z][a-z]|[a-z][0-9][A-Z][A-Z][a-z][A-Z]|[a-z][0-9][A-Z][A-Z][a-z][0-9]|[a-z][0-9][A-Z][A-Z][A-Z][a-z]|[a-z][0-9][A-Z][A-Z][A-Z][A-Z]|[a-z][0-9][A-Z][A-Z][A-Z][0-9]|[a-z][0-9][A-Z][A-Z][0-9][a-z]|[a-z][0-9][A-Z][A-Z][0-9][A-Z]|[a-z][0-9][A-Z][A-Z][0-9][0-9]|[a-z][0-9][A-Z][0-9][a-z][a-z]|[a-z][0-9][A-Z][0-9][a-z][A-Z]|[a-z][0-9][A-Z][0-9][a-z][0-9]|[a-z][0-9][A-Z][0-9][A-Z][a-z]|[a-z][0-9][A-Z][0-9][A-Z][A-Z]|[a-z][0-9][A-Z][0-9][A-Z][0-9]|[a-z][0-9][A-Z][0-9][0-9][a-z]|[a-z][0-9][A-Z][0-9][0-9][A-Z]|[a-z][0-9][A-Z][0-9][0-9][0-9]|[a-z][0-9][0-9][a-z][a-z][A-Z]|[a-z][0-9][0-9][a-z][A-Z][a-z]|[a-z][0-9][0-9][a-z][A-Z][A-Z]|[a-z][0-9][0-9][a-z][A-Z][0-9]|[a-z][0-9][0-9][a-z][0-9][A-Z]|[a-z][0-9][0-9][A-Z][a-z][a-z]|[a-z][0-9][0-9][A-Z][a-z][A-Z]|[a-z][0-9][0-9][A-Z][a-z][0-9]|[a-z][0-9][0-9][A-Z][A-Z][a-z]|[a-z][0-9][0-9][A-Z][A-Z][A-Z]|[a-z][0-9][0-9][A-Z][A-Z][0-9]|[a-z][0-9][0-9][A-Z][0-9][a-z]|[a-z][0-9][0-9][A-Z][0-9][A-Z]|[a-z][0-9][0-9][A-Z][0-9][0-9]|[a-z][0-9][0-9][0-9][a-z][A-Z]|[a-z][0-9][0-9][0-9][A-Z][a-z]|[a-z][0-9][0-9][0-9][A-Z][A-Z]|[a-z][0-9][0-9][0-9][A-Z][0-9]|[a-z][0-9][0-9][0-9][0-9][A-Z]|[A-Z][a-z][a-z][a-z][a-z][0-9]|[A-Z][a-z][a-z][a-z][A-Z][0-9]|[A-Z][a-z][a-z][a-z][0-9][a-z]|[A-Z][a-z][a-z][a-z][0-9][A-Z]|[A-Z][a-z][a-z][a-z][0-9][0-9]|[A-Z][a-z][a-z][A-Z][a-z][0-9]|[A-Z][a-z][a-z][A-Z][A-Z][0-9]|[A-Z][a-z][a-z][A-Z][0-9][a-z]|[A-Z][a-z][a-z][A-Z][0-9][A-Z]|[A-Z][a-z][a-z][A-Z][0-9][0-9]|[A-Z][a-z][a-z][0-9][a-z][a-z]|[A-Z][a-z][a-z][0-9][a-z][A-Z]|[A-Z][a-z][a-z][0-9][a-z][0-9]|[A-Z][a-z][a-z][0-9][A-Z][a-z]|[A-Z][a-z][a-z][0-9][A-Z][A-Z]|[A-Z][a-z][a-z][0-9][A-Z][0-9]|[A-Z][a-z][a-z][0-9][0-9][a-z]|[A-Z][a-z][a-z][0-9][0-9][A-Z]|[A-Z][a-z][a-z][0-9][0-9][0-9]|[A-Z][a-z][A-Z][a-z][a-z][0-9]|[A-Z][a-z][A-Z][a-z][A-Z][0-9]|[A-Z][a-z][A-Z][a-z][0-9][a-z]|[A-Z][a-z][A-Z][a-z][0-9][A-Z]|[A-Z][a-z][A-Z][a-z][0-9][0-9]|[A-Z][a-z][A-Z][A-Z][a-z][0-9]|[A-Z][a-z][A-Z][A-Z][A-Z][0-9]|[A-Z][a-z][A-Z][A-Z][0-9][a-z]|[A-Z][a-z][A-Z][A-Z][0-9][A-Z]|[A-Z][a-z][A-Z][A-Z][0-9][0-9]|[A-Z][a-z][A-Z][0-9][a-z][a-z]|[A-Z][a-z][A-Z][0-9][a-z][A-Z]|[A-Z][a-z][A-Z][0-9][a-z][0-9]|[A-Z][a-z][A-Z][0-9][A-Z][a-z]|[A-Z][a-z][A-Z][0-9][A-Z][A-Z]|[A-Z][a-z][A-Z][0-9][A-Z][0-9]|[A-Z][a-z][A-Z][0-9][0-9][a-z]|[A-Z][a-z][A-Z][0-9][0-9][A-Z]|[A-Z][a-z][A-Z][0-9][0-9][0-9]|[A-Z][a-z][0-9][a-z][a-z][a-z]|[A-Z][a-z][0-9][a-z][a-z][A-Z]|[A-Z][a-z][0-9][a-z][a-z][0-9]|[A-Z][a-z][0-9][a-z][A-Z][a-z]|[A-Z][a-z][0-9][a-z][A-Z][A-Z]|[A-Z][a-z][0-9][a-z][A-Z][0-9]|[A-Z][a-z][0-9][a-z][0-9][a-z]|[A-Z][a-z][0-9][a-z][0-9][A-Z]|[A-Z][a-z][0-9][a-z][0-9][0-9]|[A-Z][a-z][0-9][A-Z][a-z][a-z]|[A-Z][a-z][0-9][A-Z][a-z][A-Z]|[A-Z][a-z][0-9][A-Z][a-z][0-9]|[A-Z][a-z][0-9][A-Z][A-Z][a-z]|[A-Z][a-z][0-9][A-Z][A-Z][A-Z]|[A-Z][a-z][0-9][A-Z][A-Z][0-9]|[A-Z][a-z][0-9][A-Z][0-9][a-z]|[A-Z][a-z][0-9][A-Z][0-9][A-Z]|[A-Z][a-z][0-9][A-Z][0-9][0-9]|[A-Z][a-z][0-9][0-9][a-z][a-z]|[A-Z][a-z][0-9][0-9][a-z][A-Z]|[A-Z][a-z][0-9][0-9][a-z][0-9]|[A-Z][a-z][0-9][0-9][A-Z][a-z]|[A-Z][a-z][0-9][0-9][A-Z][A-Z]|[A-Z][a-z][0-9][0-9][A-Z][0-9]|[A-Z][a-z][0-9][0-9][0-9][a-z]|[A-Z][a-z][0-9][0-9][0-9][A-Z]|[A-Z][a-z][0-9][0-9][0-9][0-9]|[A-Z][A-Z][a-z][a-z][a-z][0-9]|[A-Z][A-Z][a-z][a-z][A-Z][0-9]|[A-Z][A-Z][a-z][a-z][0-9][a-z]|[A-Z][A-Z][a-z][a-z][0-9][A-Z]|[A-Z][A-Z][a-z][a-z][0-9][0-9]|[A-Z][A-Z][a-z][A-Z][a-z][0-9]|[A-Z][A-Z][a-z][A-Z][A-Z][0-9]|[A-Z][A-Z][a-z][A-Z][0-9][a-z]|[A-Z][A-Z][a-z][A-Z][0-9][A-Z]|[A-Z][A-Z][a-z][A-Z][0-9][0-9]|[A-Z][A-Z][a-z][0-9][a-z][a-z]|[A-Z][A-Z][a-z][0-9][a-z][A-Z]|[A-Z][A-Z][a-z][0-9][a-z][0-9]|[A-Z][A-Z][a-z][0-9][A-Z][a-z]|[A-Z][A-Z][a-z][0-9][A-Z][A-Z]|[A-Z][A-Z][a-z][0-9][A-Z][0-9]|[A-Z][A-Z][a-z][0-9][0-9][a-z]|[A-Z][A-Z][a-z][0-9][0-9][A-Z]|[A-Z][A-Z][a-z][0-9][0-9][0-9]|[A-Z][A-Z][A-Z][a-z][a-z][0-9]|[A-Z][A-Z][A-Z][a-z][A-Z][0-9]|[A-Z][A-Z][A-Z][a-z][0-9][a-z]|[A-Z][A-Z][A-Z][a-z][0-9][A-Z]|[A-Z][A-Z][A-Z][a-z][0-9][0-9]|[A-Z][A-Z][A-Z][A-Z][a-z][0-9]|[A-Z][A-Z][A-Z][A-Z][0-9][a-z]|[A-Z][A-Z][A-Z][0-9][a-z][a-z]|[A-Z][A-Z][A-Z][0-9][a-z][A-Z]|[A-Z][A-Z][A-Z][0-9][a-z][0-9]|[A-Z][A-Z][A-Z][0-9][A-Z][a-z]|[A-Z][A-Z][A-Z][0-9][0-9][a-z]|[A-Z][A-Z][0-9][a-z][a-z][a-z]|[A-Z][A-Z][0-9][a-z][a-z][A-Z]|[A-Z][A-Z][0-9][a-z][a-z][0-9]|[A-Z][A-Z][0-9][a-z][A-Z][a-z]|[A-Z][A-Z][0-9][a-z][A-Z][A-Z]|[A-Z][A-Z][0-9][a-z][A-Z][0-9]|[A-Z][A-Z][0-9][a-z][0-9][a-z]|[A-Z][A-Z][0-9][a-z][0-9][A-Z]|[A-Z][A-Z][0-9][a-z][0-9][0-9]|[A-Z][A-Z][0-9][A-Z][a-z][a-z]|[A-Z][A-Z][0-9][A-Z][a-z][A-Z]|[A-Z][A-Z][0-9][A-Z][a-z][0-9]|[A-Z][A-Z][0-9][A-Z][A-Z][a-z]|[A-Z][A-Z][0-9][A-Z][0-9][a-z]|[A-Z][A-Z][0-9][0-9][a-z][a-z]|[A-Z][A-Z][0-9][0-9][a-z][A-Z]|[A-Z][A-Z][0-9][0-9][a-z][0-9]|[A-Z][A-Z][0-9][0-9][A-Z][a-z]|[A-Z][A-Z][0-9][0-9][0-9][a-z]|[A-Z][0-9][a-z][a-z][a-z][a-z]|[A-Z][0-9][a-z][a-z][a-z][A-Z]|[A-Z][0-9][a-z][a-z][a-z][0-9]|[A-Z][0-9][a-z][a-z][A-Z][a-z]|[A-Z][0-9][a-z][a-z][A-Z][A-Z]|[A-Z][0-9][a-z][a-z][A-Z][0-9]|[A-Z][0-9][a-z][a-z][0-9][a-z]|[A-Z][0-9][a-z][a-z][0-9][A-Z]|[A-Z][0-9][a-z][a-z][0-9][0-9]|[A-Z][0-9][a-z][A-Z][a-z][a-z]|[A-Z][0-9][a-z][A-Z][a-z][A-Z]|[A-Z][0-9][a-z][A-Z][a-z][0-9]|[A-Z][0-9][a-z][A-Z][A-Z][a-z]|[A-Z][0-9][a-z][A-Z][A-Z][A-Z]|[A-Z][0-9][a-z][A-Z][A-Z][0-9]|[A-Z][0-9][a-z][A-Z][0-9][a-z]|[A-Z][0-9][a-z][A-Z][0-9][A-Z]|[A-Z][0-9][a-z][A-Z][0-9][0-9]|[A-Z][0-9][a-z][0-9][a-z][a-z]|[A-Z][0-9][a-z][0-9][a-z][A-Z]|[A-Z][0-9][a-z][0-9][a-z][0-9]|[A-Z][0-9][a-z][0-9][A-Z][a-z]|[A-Z][0-9][a-z][0-9][A-Z][A-Z]|[A-Z][0-9][a-z][0-9][A-Z][0-9]|[A-Z][0-9][a-z][0-9][0-9][a-z]|[A-Z][0-9][a-z][0-9][0-9][A-Z]|[A-Z][0-9][a-z][0-9][0-9][0-9]|[A-Z][0-9][A-Z][a-z][a-z][a-z]|[A-Z][0-9][A-Z][a-z][a-z][A-Z]|[A-Z][0-9][A-Z][a-z][a-z][0-9]|[A-Z][0-9][A-Z][a-z][A-Z][a-z]|[A-Z][0-9][A-Z][a-z][A-Z][A-Z]|[A-Z][0-9][A-Z][a-z][A-Z][0-9]|[A-Z][0-9][A-Z][a-z][0-9][a-z]|[A-Z][0-9][A-Z][a-z][0-9][A-Z]|[A-Z][0-9][A-Z][a-z][0-9][0-9]|[A-Z][0-9][A-Z][A-Z][a-z][a-z]|[A-Z][0-9][A-Z][A-Z][a-z][A-Z]|[A-Z][0-9][A-Z][A-Z][a-z][0-9]|[A-Z][0-9][A-Z][A-Z][A-Z][a-z]|[A-Z][0-9][A-Z][A-Z][0-9][a-z]|[A-Z][0-9][A-Z][0-9][a-z][a-z]|[A-Z][0-9][A-Z][0-9][a-z][A-Z]|[A-Z][0-9][A-Z][0-9][a-z][0-9]|[A-Z][0-9][A-Z][0-9][A-Z][a-z]|[A-Z][0-9][A-Z][0-9][0-9][a-z]|[A-Z][0-9][0-9][a-z][a-z][a-z]|[A-Z][0-9][0-9][a-z][a-z][A-Z]|[A-Z][0-9][0-9][a-z][a-z][0-9]|[A-Z][0-9][0-9][a-z][A-Z][a-z]|[A-Z][0-9][0-9][a-z][A-Z][A-Z]|[A-Z][0-9][0-9][a-z][A-Z][0-9]|[A-Z][0-9][0-9][a-z][0-9][a-z]|[A-Z][0-9][0-9][a-z][0-9][A-Z]|[A-Z][0-9][0-9][a-z][0-9][0-9]|[A-Z][0-9][0-9][A-Z][a-z][a-z]|[A-Z][0-9][0-9][A-Z][a-z][A-Z]|[A-Z][0-9][0-9][A-Z][a-z][0-9]|[A-Z][0-9][0-9][A-Z][A-Z][a-z]|[A-Z][0-9][0-9][A-Z][0-9][a-z]|[A-Z][0-9][0-9][0-9][a-z][a-z]|[A-Z][0-9][0-9][0-9][a-z][A-Z]|[A-Z][0-9][0-9][0-9][a-z][0-9]|[A-Z][0-9][0-9][0-9][A-Z][a-z]|[A-Z][0-9][0-9][0-9][0-9][a-z]|[0-9][a-z][a-z][a-z][a-z][A-Z]|[0-9][a-z][a-z][a-z][A-Z][a-z]|[0-9][a-z][a-z][a-z][A-Z][A-Z]|[0-9][a-z][a-z][a-z][A-Z][0-9]|[0-9][a-z][a-z][a-z][0-9][A-Z]|[0-9][a-z][a-z][A-Z][a-z][a-z]|[0-9][a-z][a-z][A-Z][a-z][A-Z]|[0-9][a-z][a-z][A-Z][a-z][0-9]|[0-9][a-z][a-z][A-Z][A-Z][a-z]|[0-9][a-z][a-z][A-Z][A-Z][A-Z]|[0-9][a-z][a-z][A-Z][A-Z][0-9]|[0-9][a-z][a-z][A-Z][0-9][a-z]|[0-9][a-z][a-z][A-Z][0-9][A-Z]|[0-9][a-z][a-z][A-Z][0-9][0-9]|[0-9][a-z][a-z][0-9][a-z][A-Z]|[0-9][a-z][a-z][0-9][A-Z][a-z]|[0-9][a-z][a-z][0-9][A-Z][A-Z]|[0-9][a-z][a-z][0-9][A-Z][0-9]|[0-9][a-z][a-z][0-9][0-9][A-Z]|[0-9][a-z][A-Z][a-z][a-z][a-z]|[0-9][a-z][A-Z][a-z][a-z][A-Z]|[0-9][a-z][A-Z][a-z][a-z][0-9]|[0-9][a-z][A-Z][a-z][A-Z][a-z]|[0-9][a-z][A-Z][a-z][A-Z][A-Z]|[0-9][a-z][A-Z][a-z][A-Z][0-9]|[0-9][a-z][A-Z][a-z][0-9][a-z]|[0-9][a-z][A-Z][a-z][0-9][A-Z]|[0-9][a-z][A-Z][a-z][0-9][0-9]|[0-9][a-z][A-Z][A-Z][a-z][a-z]|[0-9][a-z][A-Z][A-Z][a-z][A-Z]|[0-9][a-z][A-Z][A-Z][a-z][0-9]|[0-9][a-z][A-Z][A-Z][A-Z][a-z]|[0-9][a-z][A-Z][A-Z][A-Z][A-Z]|[0-9][a-z][A-Z][A-Z][A-Z][0-9]|[0-9][a-z][A-Z][A-Z][0-9][a-z]|[0-9][a-z][A-Z][A-Z][0-9][A-Z]|[0-9][a-z][A-Z][A-Z][0-9][0-9]|[0-9][a-z][A-Z][0-9][a-z][a-z]|[0-9][a-z][A-Z][0-9][a-z][A-Z]|[0-9][a-z][A-Z][0-9][a-z][0-9]|[0-9][a-z][A-Z][0-9][A-Z][a-z]|[0-9][a-z][A-Z][0-9][A-Z][A-Z]|[0-9][a-z][A-Z][0-9][A-Z][0-9]|[0-9][a-z][A-Z][0-9][0-9][a-z]|[0-9][a-z][A-Z][0-9][0-9][A-Z]|[0-9][a-z][A-Z][0-9][0-9][0-9]|[0-9][a-z][0-9][a-z][a-z][A-Z]|[0-9][a-z][0-9][a-z][A-Z][a-z]|[0-9][a-z][0-9][a-z][A-Z][A-Z]|[0-9][a-z][0-9][a-z][A-Z][0-9]|[0-9][a-z][0-9][a-z][0-9][A-Z]|[0-9][a-z][0-9][A-Z][a-z][a-z]|[0-9][a-z][0-9][A-Z][a-z][A-Z]|[0-9][a-z][0-9][A-Z][a-z][0-9]|[0-9][a-z][0-9][A-Z][A-Z][a-z]|[0-9][a-z][0-9][A-Z][A-Z][A-Z]|[0-9][a-z][0-9][A-Z][A-Z][0-9]|[0-9][a-z][0-9][A-Z][0-9][a-z]|[0-9][a-z][0-9][A-Z][0-9][A-Z]|[0-9][a-z][0-9][A-Z][0-9][0-9]|[0-9][a-z][0-9][0-9][a-z][A-Z]|[0-9][a-z][0-9][0-9][A-Z][a-z]|[0-9][a-z][0-9][0-9][A-Z][A-Z]|[0-9][a-z][0-9][0-9][A-Z][0-9]|[0-9][a-z][0-9][0-9][0-9][A-Z]|[0-9][A-Z][a-z][a-z][a-z][a-z]|[0-9][A-Z][a-z][a-z][a-z][A-Z]|[0-9][A-Z][a-z][a-z][a-z][0-9]|[0-9][A-Z][a-z][a-z][A-Z][a-z]|[0-9][A-Z][a-z][a-z][A-Z][A-Z]|[0-9][A-Z][a-z][a-z][A-Z][0-9]|[0-9][A-Z][a-z][a-z][0-9][a-z]|[0-9][A-Z][a-z][a-z][0-9][A-Z]|[0-9][A-Z][a-z][a-z][0-9][0-9]|[0-9][A-Z][a-z][A-Z][a-z][a-z]|[0-9][A-Z][a-z][A-Z][a-z][A-Z]|[0-9][A-Z][a-z][A-Z][a-z][0-9]|[0-9][A-Z][a-z][A-Z][A-Z][a-z]|[0-9][A-Z][a-z][A-Z][A-Z][A-Z]|[0-9][A-Z][a-z][A-Z][A-Z][0-9]|[0-9][A-Z][a-z][A-Z][0-9][a-z]|[0-9][A-Z][a-z][A-Z][0-9][A-Z]|[0-9][A-Z][a-z][A-Z][0-9][0-9]|[0-9][A-Z][a-z][0-9][a-z][a-z]|[0-9][A-Z][a-z][0-9][a-z][A-Z]|[0-9][A-Z][a-z][0-9][a-z][0-9]|[0-9][A-Z][a-z][0-9][A-Z][a-z]|[0-9][A-Z][a-z][0-9][A-Z][A-Z]|[0-9][A-Z][a-z][0-9][A-Z][0-9]|[0-9][A-Z][a-z][0-9][0-9][a-z]|[0-9][A-Z][a-z][0-9][0-9][A-Z]|[0-9][A-Z][a-z][0-9][0-9][0-9]|[0-9][A-Z][A-Z][a-z][a-z][a-z]|[0-9][A-Z][A-Z][a-z][a-z][A-Z]|[0-9][A-Z][A-Z][a-z][a-z][0-9]|[0-9][A-Z][A-Z][a-z][A-Z][a-z]|[0-9][A-Z][A-Z][a-z][A-Z][A-Z]|[0-9][A-Z][A-Z][a-z][A-Z][0-9]|[0-9][A-Z][A-Z][a-z][0-9][a-z]|[0-9][A-Z][A-Z][a-z][0-9][A-Z]|[0-9][A-Z][A-Z][a-z][0-9][0-9]|[0-9][A-Z][A-Z][A-Z][a-z][a-z]|[0-9][A-Z][A-Z][A-Z][a-z][A-Z]|[0-9][A-Z][A-Z][A-Z][a-z][0-9]|[0-9][A-Z][A-Z][A-Z][A-Z][a-z]|[0-9][A-Z][A-Z][A-Z][0-9][a-z]|[0-9][A-Z][A-Z][0-9][a-z][a-z]|[0-9][A-Z][A-Z][0-9][a-z][A-Z]|[0-9][A-Z][A-Z][0-9][a-z][0-9]|[0-9][A-Z][A-Z][0-9][A-Z][a-z]|[0-9][A-Z][A-Z][0-9][0-9][a-z]|[0-9][A-Z][0-9][a-z][a-z][a-z]|[0-9][A-Z][0-9][a-z][a-z][A-Z]|[0-9][A-Z][0-9][a-z][a-z][0-9]|[0-9][A-Z][0-9][a-z][A-Z][a-z]|[0-9][A-Z][0-9][a-z][A-Z][A-Z]|[0-9][A-Z][0-9][a-z][A-Z][0-9]|[0-9][A-Z][0-9][a-z][0-9][a-z]|[0-9][A-Z][0-9][a-z][0-9][A-Z]|[0-9][A-Z][0-9][a-z][0-9][0-9]|[0-9][A-Z][0-9][A-Z][a-z][a-z]|[0-9][A-Z][0-9][A-Z][a-z][A-Z]|[0-9][A-Z][0-9][A-Z][a-z][0-9]|[0-9][A-Z][0-9][A-Z][A-Z][a-z]|[0-9][A-Z][0-9][A-Z][0-9][a-z]|[0-9][A-Z][0-9][0-9][a-z][a-z]|[0-9][A-Z][0-9][0-9][a-z][A-Z]|[0-9][A-Z][0-9][0-9][a-z][0-9]|[0-9][A-Z][0-9][0-9][A-Z][a-z]|[0-9][A-Z][0-9][0-9][0-9][a-z]|[0-9][0-9][a-z][a-z][a-z][A-Z]|[0-9][0-9][a-z][a-z][A-Z][a-z]|[0-9][0-9][a-z][a-z][A-Z][A-Z]|[0-9][0-9][a-z][a-z][A-Z][0-9]|[0-9][0-9][a-z][a-z][0-9][A-Z]|[0-9][0-9][a-z][A-Z][a-z][a-z]|[0-9][0-9][a-z][A-Z][a-z][A-Z]|[0-9][0-9][a-z][A-Z][a-z][0-9]|[0-9][0-9][a-z][A-Z][A-Z][a-z]|[0-9][0-9][a-z][A-Z][A-Z][A-Z]|[0-9][0-9][a-z][A-Z][A-Z][0-9]|[0-9][0-9][a-z][A-Z][0-9][a-z]|[0-9][0-9][a-z][A-Z][0-9][A-Z]|[0-9][0-9][a-z][A-Z][0-9][0-9]|[0-9][0-9][a-z][0-9][a-z][A-Z]|[0-9][0-9][a-z][0-9][A-Z][a-z]|[0-9][0-9][a-z][0-9][A-Z][A-Z]|[0-9][0-9][a-z][0-9][A-Z][0-9]|[0-9][0-9][a-z][0-9][0-9][A-Z]|[0-9][0-9][A-Z][a-z][a-z][a-z]|[0-9][0-9][A-Z][a-z][a-z][A-Z]|[0-9][0-9][A-Z][a-z][a-z][0-9]|[0-9][0-9][A-Z][a-z][A-Z][a-z]|[0-9][0-9][A-Z][a-z][A-Z][A-Z]|[0-9][0-9][A-Z][a-z][A-Z][0-9]|[0-9][0-9][A-Z][a-z][0-9][a-z]|[0-9][0-9][A-Z][a-z][0-9][A-Z]|[0-9][0-9][A-Z][a-z][0-9][0-9]|[0-9][0-9][A-Z][A-Z][a-z][a-z]|[0-9][0-9][A-Z][A-Z][a-z][A-Z]|[0-9][0-9][A-Z][A-Z][a-z][0-9]|[0-9][0-9][A-Z][A-Z][A-Z][a-z]|[0-9][0-9][A-Z][A-Z][0-9][a-z]|[0-9][0-9][A-Z][0-9][a-z][a-z]|[0-9][0-9][A-Z][0-9][a-z][A-Z]|[0-9][0-9][A-Z][0-9][a-z][0-9]|[0-9][0-9][A-Z][0-9][A-Z][a-z]|[0-9][0-9][A-Z][0-9][0-9][a-z]|[0-9][0-9][0-9][a-z][a-z][A-Z]|[0-9][0-9][0-9][a-z][A-Z][a-z]|[0-9][0-9][0-9][a-z][A-Z][A-Z]|[0-9][0-9][0-9][a-z][A-Z][0-9]|[0-9][0-9][0-9][a-z][0-9][A-Z]|[0-9][0-9][0-9][A-Z][a-z][a-z]|[0-9][0-9][0-9][A-Z][a-z][A-Z]|[0-9][0-9][0-9][A-Z][a-z][0-9]|[0-9][0-9][0-9][A-Z][A-Z][a-z]|[0-9][0-9][0-9][A-Z][0-9][a-z]|[0-9][0-9][0-9][0-9][a-z][A-Z]|[0-9][0-9][0-9][0-9][A-Z][a-z])\n"
     ]
    }
   ],
   "source": [
    "print(sizesixpw)#9919"
   ]
  },
  {
   "cell_type": "code",
   "execution_count": 150,
   "metadata": {},
   "outputs": [
    {
     "name": "stdout",
     "output_type": "stream",
     "text": [
      "bummerNone\n"
     ]
    }
   ],
   "source": [
    "import re\n",
    "test = 'rAssword123'\n",
    "x = re.search(\"^[A-z]+(\\d+)[a-z]+$\",test)\n",
    "if x:\n",
    "    print(x)\n",
    "else:\n",
    "    print('bummer'+str(x))"
   ]
  },
  {
   "cell_type": "code",
   "execution_count": null,
   "metadata": {},
   "outputs": [],
   "source": []
  }
 ],
 "metadata": {
  "kernelspec": {
   "display_name": "Python 3",
   "language": "python",
   "name": "python3"
  },
  "language_info": {
   "codemirror_mode": {
    "name": "ipython",
    "version": 3
   },
   "file_extension": ".py",
   "mimetype": "text/x-python",
   "name": "python",
   "nbconvert_exporter": "python",
   "pygments_lexer": "ipython3",
   "version": "3.7.6"
  }
 },
 "nbformat": 4,
 "nbformat_minor": 4
}
