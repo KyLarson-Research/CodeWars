{
 "cells": [
  {
   "cell_type": "code",
   "execution_count": 6,
   "metadata": {},
   "outputs": [
    {
     "name": "stdout",
     "output_type": "stream",
     "text": [
      "<re.Match object; span=(0, 6), match='sixcha'>\n"
     ]
    }
   ],
   "source": [
    "# regexpass.ipynb\n",
    "# Author: Kyle Carlton Larson\n",
    "# Purpose: Codewars practice of python 'Regex Password Validation'\n",
    "import re\n",
    "test = 'sixchars'\n",
    "x = re.search(\".{6}\",test)\n",
    "if x:\n",
    "    print(x)\n",
    "else:\n",
    "    print('bummer'+str(x))"
   ]
  },
  {
   "cell_type": "code",
   "execution_count": 15,
   "metadata": {},
   "outputs": [
    {
     "name": "stdout",
     "output_type": "stream",
     "text": [
      "bummerNone\n"
     ]
    }
   ],
   "source": [
    "import re\n",
    "test = '_'\n",
    "x = re.search(\"[a-z]\",test)\n",
    "if x:\n",
    "    print(x)\n",
    "else:\n",
    "    print('bummer'+str(x))"
   ]
  },
  {
   "cell_type": "code",
   "execution_count": 14,
   "metadata": {},
   "outputs": [
    {
     "name": "stdout",
     "output_type": "stream",
     "text": [
      "<re.Match object; span=(0, 1), match='X'>\n"
     ]
    }
   ],
   "source": [
    "import re\n",
    "test = 'X'\n",
    "x = re.search(\"[A-Z]\",test)\n",
    "if x:\n",
    "    print(x)\n",
    "else:\n",
    "    print('bummer'+str(x))"
   ]
  },
  {
   "cell_type": "code",
   "execution_count": 13,
   "metadata": {},
   "outputs": [
    {
     "name": "stdout",
     "output_type": "stream",
     "text": [
      "<re.Match object; span=(0, 1), match='8'>\n"
     ]
    }
   ],
   "source": [
    "import re\n",
    "test = '8'\n",
    "x = re.search(\"[0-9]\",test)\n",
    "if x:\n",
    "    print(x)\n",
    "else:\n",
    "    print('bummer'+str(x))"
   ]
  },
  {
   "cell_type": "code",
   "execution_count": 86,
   "metadata": {},
   "outputs": [
    {
     "name": "stdout",
     "output_type": "stream",
     "text": [
      "<re.Match object; span=(0, 0), match=''>\n"
     ]
    }
   ],
   "source": [
    "import re\n",
    "test = 'gH9fj32'\n",
    "x = re.search(\"\",test)\n",
    "if x:\n",
    "    print(x)\n",
    "else:\n",
    "    print('bummer'+str(x))"
   ]
  },
  {
   "cell_type": "code",
   "execution_count": 23,
   "metadata": {},
   "outputs": [
    {
     "name": "stdout",
     "output_type": "stream",
     "text": [
      "|0000|0001|0002|0010|0011|0012|0020|0021|0022|0100|0101|0102|0110|0111|0112|0120|0121|0122|0200|0201|0202|0210|0211|0212|0220|0221|0222|1000|1001|1002|1010|1011|1012|1020|1021|1022|1100|1101|1102|1110|1111|1112|1120|1121|1122|1200|1201|1202|1210|1211|1212|1220|1221|1222|2000|2001|2002|2010|2011|2012|2020|2021|2022|2100|2101|2102|2110|2111|2112|2120|2121|2122|2200|2201|2202|2210|2211|2212|2220|2221|2222\n"
     ]
    }
   ],
   "source": [
    "#try to find all of the possible combos of the 3 types into 6 slots\n",
    "\n",
    "\n",
    "#https://stackoverflow.com/questions/34559663/convert-decimal-to-ternarybase3-in-python\n",
    "def ternary (n):    \n",
    "    if n == 0: #poke's solution from the above\n",
    "        return '0'\n",
    "    nums = []\n",
    "    while n:\n",
    "        n, r = divmod(n, 3)\n",
    "        nums.append(str(r))\n",
    "    return ''.join(reversed(nums))\n",
    "\n",
    "def ternary_to_specchar(string):\n",
    "    a = '[a-z]'\n",
    "    b = '[A-Z]'\n",
    "    c = '[0-9]'\n",
    "    for ch in string:\n",
    "        if(ch == '0'):\n",
    "            return a\n",
    "        elif()\n",
    "\n",
    "def printset(max, leng):\n",
    "    bigstringchunk =''\n",
    "    bigstring =''\n",
    "    for i in range(0, max):#count from 0 to max in base 3\n",
    "        bigstringchunk = ternary(i) #convert each to bigstringchunk\n",
    "        while(len(bigstringchunk) < leng):\n",
    "            bigstringchunk = '0'+bigstringchunk\n",
    "        bigstring = bigstring +'|'+ bigstringchunk\n",
    "    #add each bigstringchunk to bigstring splitting with 'or' |\n",
    "    return bigstring\n",
    "print(printset(3**4, 4))"
   ]
  },
  {
   "cell_type": "code",
   "execution_count": 15,
   "metadata": {},
   "outputs": [
    {
     "data": {
      "text/plain": [
       "2187"
      ]
     },
     "execution_count": 15,
     "metadata": {},
     "output_type": "execute_result"
    }
   ],
   "source": [
    "3**7"
   ]
  },
  {
   "cell_type": "code",
   "execution_count": null,
   "metadata": {},
   "outputs": [],
   "source": []
  }
 ],
 "metadata": {
  "kernelspec": {
   "display_name": "Python 3",
   "language": "python",
   "name": "python3"
  },
  "language_info": {
   "codemirror_mode": {
    "name": "ipython",
    "version": 3
   },
   "file_extension": ".py",
   "mimetype": "text/x-python",
   "name": "python",
   "nbconvert_exporter": "python",
   "pygments_lexer": "ipython3",
   "version": "3.7.6"
  }
 },
 "nbformat": 4,
 "nbformat_minor": 4
}
