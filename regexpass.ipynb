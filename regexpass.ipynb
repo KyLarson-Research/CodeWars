{
 "cells": [
  {
   "cell_type": "code",
   "execution_count": 6,
   "metadata": {},
   "outputs": [
    {
     "name": "stdout",
     "output_type": "stream",
     "text": [
      "<re.Match object; span=(0, 6), match='sixcha'>\n"
     ]
    }
   ],
   "source": [
    "# regexpass.ipynb\n",
    "# Author: Kyle Carlton Larson\n",
    "# Purpose: Codewars practice of python 'Regex Password Validation'\n",
    "import re\n",
    "test = 'sixchars'\n",
    "x = re.search(\".{6}\",test)\n",
    "if x:\n",
    "    print(x)\n",
    "else:\n",
    "    print('bummer'+str(x))"
   ]
  },
  {
   "cell_type": "code",
   "execution_count": 15,
   "metadata": {},
   "outputs": [
    {
     "name": "stdout",
     "output_type": "stream",
     "text": [
      "bummerNone\n"
     ]
    }
   ],
   "source": [
    "import re\n",
    "test = '_'\n",
    "x = re.search(\"[a-z]\",test)\n",
    "if x:\n",
    "    print(x)\n",
    "else:\n",
    "    print('bummer'+str(x))"
   ]
  },
  {
   "cell_type": "code",
   "execution_count": 14,
   "metadata": {},
   "outputs": [
    {
     "name": "stdout",
     "output_type": "stream",
     "text": [
      "<re.Match object; span=(0, 1), match='X'>\n"
     ]
    }
   ],
   "source": [
    "import re\n",
    "test = 'X'\n",
    "x = re.search(\"[A-Z]\",test)\n",
    "if x:\n",
    "    print(x)\n",
    "else:\n",
    "    print('bummer'+str(x))"
   ]
  },
  {
   "cell_type": "code",
   "execution_count": 13,
   "metadata": {},
   "outputs": [
    {
     "name": "stdout",
     "output_type": "stream",
     "text": [
      "<re.Match object; span=(0, 1), match='8'>\n"
     ]
    }
   ],
   "source": [
    "import re\n",
    "test = '8'\n",
    "x = re.search(\"[0-9]\",test)\n",
    "if x:\n",
    "    print(x)\n",
    "else:\n",
    "    print('bummer'+str(x))"
   ]
  },
  {
   "cell_type": "code",
   "execution_count": 86,
   "metadata": {},
   "outputs": [
    {
     "name": "stdout",
     "output_type": "stream",
     "text": [
      "<re.Match object; span=(0, 0), match=''>\n"
     ]
    }
   ],
   "source": [
    "import re\n",
    "test = 'gH9fj32'\n",
    "x = re.search(\"\",test)\n",
    "if x:\n",
    "    print(x)\n",
    "else:\n",
    "    print('bummer'+str(x))"
   ]
  },
  {
   "cell_type": "code",
   "execution_count": null,
   "metadata": {},
   "outputs": [],
   "source": [
    "#try to find all of the possible combos of the 3 types into 6 slots\n",
    "bigstring = ''\n",
    "a = '[a-z]'\n",
    "b = '[A-Z]'\n",
    "c = '[0-9]'\n",
    "def printset()\n",
    "    #count from 0 to max in base 3\n",
    "    #convert each to bigstringchunk\n",
    "    #add each bigstringchunk to bigstring\n",
    "    "
   ]
  }
 ],
 "metadata": {
  "kernelspec": {
   "display_name": "Python 3",
   "language": "python",
   "name": "python3"
  },
  "language_info": {
   "codemirror_mode": {
    "name": "ipython",
    "version": 3
   },
   "file_extension": ".py",
   "mimetype": "text/x-python",
   "name": "python",
   "nbconvert_exporter": "python",
   "pygments_lexer": "ipython3",
   "version": "3.7.6"
  }
 },
 "nbformat": 4,
 "nbformat_minor": 4
}
