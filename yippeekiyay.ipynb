{
 "cells": [
  {
   "cell_type": "code",
   "execution_count": null,
   "metadata": {},
   "outputs": [],
   "source": [
    "#File Name: yippeekiyay.ipynb\n",
    "#Author: Kyle Carlton Larson\n",
    "#Description: Code Wars Day 2 11/23/2020\n"
   ]
  },
  {
   "cell_type": "code",
   "execution_count": 37,
   "metadata": {},
   "outputs": [
    {
     "name": "stdout",
     "output_type": "stream",
     "text": [
      "nopqrstuvwxyzabcdefghijklM\n"
     ]
    }
   ],
   "source": [
    "#Author Kyle Carlton Larson\n",
    "def rot13(message):\n",
    "    caesar = ''\n",
    "    for c in message:\n",
    "        if(ord(c)>96 and ord(c)<123): # if lowercase ord = 97 to 123\n",
    "            caesar += (chr((13+ord(c)-97)%26+97))\n",
    "        elif(ord(c)>64 and ord(c) < 91): # if uppercase ord = 65 to 90\n",
    "            caesar += (chr((13+ord(c)-65)%26+65))\n",
    "        else:\n",
    "            caesar += c\n",
    "    return caesar\n",
    "print(rot13('abcdefghijklmnopqrstuvwxyZ'))"
   ]
  },
  {
   "cell_type": "code",
   "execution_count": null,
   "metadata": {},
   "outputs": [],
   "source": []
  },
  {
   "cell_type": "code",
   "execution_count": null,
   "metadata": {},
   "outputs": [],
   "source": []
  },
  {
   "cell_type": "code",
   "execution_count": null,
   "metadata": {},
   "outputs": [],
   "source": []
  }
 ],
 "metadata": {
  "kernelspec": {
   "display_name": "Python 3",
   "language": "python",
   "name": "python3"
  },
  "language_info": {
   "codemirror_mode": {
    "name": "ipython",
    "version": 3
   },
   "file_extension": ".py",
   "mimetype": "text/x-python",
   "name": "python",
   "nbconvert_exporter": "python",
   "pygments_lexer": "ipython3",
   "version": "3.7.6"
  }
 },
 "nbformat": 4,
 "nbformat_minor": 4
}
