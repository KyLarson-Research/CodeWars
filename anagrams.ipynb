{
 "cells": [
  {
   "cell_type": "code",
   "execution_count": 2,
   "metadata": {},
   "outputs": [
    {
     "name": "stdout",
     "output_type": "stream",
     "text": [
      "['f', 'o', 'o', ' ', 'd']\n"
     ]
    }
   ],
   "source": [
    "#File Name: anagrams.ipynb\n",
    "#Author: Kyle Larson\n",
    "#Purpose: solve the codewars anagrams puzzle\n",
    "#string to list\n",
    "test = \"foo d\"\n",
    "print(list(test))"
   ]
  },
  {
   "cell_type": "code",
   "execution_count": 13,
   "metadata": {},
   "outputs": [
    {
     "name": "stdout",
     "output_type": "stream",
     "text": [
      "['aabb', 'bbaa']\n"
     ]
    }
   ],
   "source": [
    "def anagram( search, inString ):\n",
    "    if(len(search)!=len(inString)):\n",
    "        return False\n",
    "    searchList = list(search)\n",
    "    inStringList = list(inString)\n",
    "    for c in searchList:\n",
    "        if c in inStringList:\n",
    "            inStringList.remove(c)\n",
    "    if(len(inStringList)==0):\n",
    "        return True\n",
    "    else: \n",
    "        return False\n",
    "\n",
    "def anagrams(word, words):\n",
    "    S = []\n",
    "    for s in words:\n",
    "        if(anagram(word, s)):\n",
    "            S.append(s)\n",
    "    \n",
    "    return S\n",
    "\n",
    "print(anagrams('abba', ['aabb', 'abcd', 'bbaa', 'dada']))"
   ]
  },
  {
   "cell_type": "code",
   "execution_count": 5,
   "metadata": {},
   "outputs": [
    {
     "name": "stdout",
     "output_type": "stream",
     "text": [
      "yes\n"
     ]
    }
   ],
   "source": [
    "if 'o' in list(test):\n",
    "    print('yes')"
   ]
  },
  {
   "cell_type": "code",
   "execution_count": 11,
   "metadata": {},
   "outputs": [
    {
     "name": "stdout",
     "output_type": "stream",
     "text": [
      "['f', 'o', 'o', ' ']\n"
     ]
    }
   ],
   "source": [
    "zebra = list(test)\n",
    "zebra.remove( 'd' )\n",
    "print(zebra)"
   ]
  },
  {
   "cell_type": "code",
   "execution_count": null,
   "metadata": {},
   "outputs": [],
   "source": []
  }
 ],
 "metadata": {
  "kernelspec": {
   "display_name": "Python 3",
   "language": "python",
   "name": "python3"
  },
  "language_info": {
   "codemirror_mode": {
    "name": "ipython",
    "version": 3
   },
   "file_extension": ".py",
   "mimetype": "text/x-python",
   "name": "python",
   "nbconvert_exporter": "python",
   "pygments_lexer": "ipython3",
   "version": "3.7.6"
  }
 },
 "nbformat": 4,
 "nbformat_minor": 4
}
