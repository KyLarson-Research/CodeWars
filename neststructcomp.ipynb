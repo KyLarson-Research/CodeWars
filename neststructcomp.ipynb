{
 "cells": [
  {
   "cell_type": "code",
   "execution_count": 37,
   "metadata": {},
   "outputs": [
    {
     "name": "stdout",
     "output_type": "stream",
     "text": [
      "result False\n"
     ]
    }
   ],
   "source": [
    "#neststructcomp.ipynb\n",
    "#Author: Kyle Carlton Larson\n",
    "#purpose: for the Codewars challenge, complete the function\n",
    "#to return true when argument is an array that has the same \n",
    "#nesting structures and same corresponding length as the \n",
    "#first array\n",
    "\n",
    "def recursion(A, B):\n",
    "    if(type(A) != type(B) and type(A)!=str and type(B)!=str):\n",
    "        out.append( 1 )\n",
    "    \n",
    "    if(type(A)==list and type(B)==list):\n",
    "        if(len(A)!=len(B)):\n",
    "            out.append( 1 ) \n",
    "        k = min([len(A), len(B)])\n",
    "        for i in range(k):\n",
    "            recursion(A[i], B[i])\n",
    "    out.append(0)\n",
    "\n",
    "def same_structure_as(A, B):\n",
    "    global out\n",
    "    out=[]\n",
    "    recursion(A, B)\n",
    "    if(sum(out)>0):\n",
    "        return False\n",
    "    else:\n",
    "        return True\n",
    "\n",
    "\n",
    "print('result '+str(same_structure_as( [1, [1,2]], [3, [4]] ) ))\n",
    "   "
   ]
  },
  {
   "cell_type": "code",
   "execution_count": 70,
   "metadata": {},
   "outputs": [
    {
     "data": {
      "text/plain": [
       "list"
      ]
     },
     "execution_count": 70,
     "metadata": {},
     "output_type": "execute_result"
    }
   ],
   "source": [
    "type([1,1])"
   ]
  },
  {
   "cell_type": "code",
   "execution_count": 71,
   "metadata": {},
   "outputs": [
    {
     "data": {
      "text/plain": [
       "list"
      ]
     },
     "execution_count": 71,
     "metadata": {},
     "output_type": "execute_result"
    }
   ],
   "source": [
    "type([1])"
   ]
  },
  {
   "cell_type": "code",
   "execution_count": 25,
   "metadata": {},
   "outputs": [
    {
     "data": {
      "text/plain": [
       "2"
      ]
     },
     "execution_count": 25,
     "metadata": {},
     "output_type": "execute_result"
    }
   ],
   "source": [
    "len([1,1])"
   ]
  },
  {
   "cell_type": "code",
   "execution_count": 26,
   "metadata": {},
   "outputs": [
    {
     "data": {
      "text/plain": [
       "1"
      ]
     },
     "execution_count": 26,
     "metadata": {},
     "output_type": "execute_result"
    }
   ],
   "source": [
    "len([1])"
   ]
  },
  {
   "cell_type": "code",
   "execution_count": 56,
   "metadata": {},
   "outputs": [
    {
     "name": "stdout",
     "output_type": "stream",
     "text": [
      "[1.5, 2]\n",
      "[4]\n"
     ]
    }
   ],
   "source": [
    "A, B = [ 1, [ 1.5, 2 ] ], [ 3, [  4 ] ]\n",
    "print(A[1])\n",
    "print(B[1])"
   ]
  },
  {
   "cell_type": "code",
   "execution_count": 20,
   "metadata": {},
   "outputs": [
    {
     "data": {
      "text/plain": [
       "1"
      ]
     },
     "execution_count": 20,
     "metadata": {},
     "output_type": "execute_result"
    }
   ],
   "source": [
    "sum([True , False, False])"
   ]
  },
  {
   "cell_type": "code",
   "execution_count": null,
   "metadata": {},
   "outputs": [],
   "source": []
  }
 ],
 "metadata": {
  "kernelspec": {
   "display_name": "Python 3",
   "language": "python",
   "name": "python3"
  },
  "language_info": {
   "codemirror_mode": {
    "name": "ipython",
    "version": 3
   },
   "file_extension": ".py",
   "mimetype": "text/x-python",
   "name": "python",
   "nbconvert_exporter": "python",
   "pygments_lexer": "ipython3",
   "version": "3.7.6"
  }
 },
 "nbformat": 4,
 "nbformat_minor": 4
}
