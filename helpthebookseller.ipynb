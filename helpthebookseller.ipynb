{
 "cells": [
  {
   "cell_type": "code",
   "execution_count": 36,
   "metadata": {},
   "outputs": [
    {
     "name": "stdout",
     "output_type": "stream",
     "text": [
      "(A : 200) - (B : 1140) - (Z : 0)\n"
     ]
    }
   ],
   "source": [
    "# File Name: helpthebookseller.ipynb\n",
    "# Author: Kyle C Larson\n",
    "# Purpose: Practice python by solving the similarly titled CodeWars Challenge\n",
    "import re\n",
    "def findIndexOfTrailingNumbers(sampleart):  \n",
    "    for n in range(len(sampleart)-1):\n",
    "        x = re.search(\"[a-zA-Z]\", sampleart[n])\n",
    "        if( x == None):\n",
    "            return n\n",
    "            \n",
    "def stock_list(listOfArt, listOfCat):\n",
    "    dictSumArt = {}\n",
    "    if(len(listOfArt)>0):\n",
    "        indexOfTrailingNumbers = findIndexOfTrailingNumbers(listOfArt[0])\n",
    "    else:\n",
    "        return ''\n",
    "    #Iterate throught the Art Summing Cat1...N\n",
    "    for cat in listOfCat:\n",
    "        for art in listOfArt:\n",
    "            if(cat == art[0]):\n",
    "                if cat in dictSumArt:\n",
    "                    dictSumArt[cat] = int(art[indexOfTrailingNumbers:]) + dictSumArt[cat]\n",
    "                else:\n",
    "                    dictSumArt[cat] = int(art[indexOfTrailingNumbers:])\n",
    "        if cat not in dictSumArt:\n",
    "            dictSumArt[cat] = 0\n",
    "    #Format output string\n",
    "    strdict =''\n",
    "    for key in dictSumArt:\n",
    "        strdict = strdict + '(' + str(key) + ' : ' + str(dictSumArt[key]) + ') - '\n",
    "    return strdict[:len(strdict)-3]\n",
    "\n",
    "listOfArt_t1, listOfCat_t1 = [\"ABAR 200\", \"CDXE 500\", \"BKWR 250\", \"BTSQ 890\", \"DRTY 600\"], [\"A\", \"B\", 'Z']\n",
    "print(stock_list(listOfArt_t1, listOfCat_t1))"
   ]
  },
  {
   "cell_type": "code",
   "execution_count": 15,
   "metadata": {},
   "outputs": [
    {
     "name": "stdout",
     "output_type": "stream",
     "text": [
      "{'A': 300}\n",
      "{'A': 300, 'B': 500}\n",
      "500\n"
     ]
    }
   ],
   "source": [
    "dictpractice = {'A':300}\n",
    "print(dictpractice)\n",
    "dictpractice[sampleart[1]] = 500\n",
    "print(str(dictpractice))\n",
    "print(dictpractice[sampleart[1]])\n"
   ]
  },
  {
   "cell_type": "code",
   "execution_count": 3,
   "metadata": {},
   "outputs": [
    {
     "name": "stdout",
     "output_type": "stream",
     "text": [
      "A\n"
     ]
    }
   ],
   "source": [
    "sampleart = \"ABAR 200\"\n",
    "print(sampleart[0])"
   ]
  },
  {
   "cell_type": "code",
   "execution_count": 5,
   "metadata": {},
   "outputs": [
    {
     "data": {
      "text/plain": [
       "500"
      ]
     },
     "execution_count": 5,
     "metadata": {},
     "output_type": "execute_result"
    }
   ],
   "source": [
    "int('500')"
   ]
  },
  {
   "cell_type": "code",
   "execution_count": 25,
   "metadata": {},
   "outputs": [
    {
     "name": "stdout",
     "output_type": "stream",
     "text": [
      "yas\n"
     ]
    }
   ],
   "source": [
    "if 'c' not in dictpractice:\n",
    "    print('yas')"
   ]
  },
  {
   "cell_type": "code",
   "execution_count": 23,
   "metadata": {},
   "outputs": [
    {
     "name": "stdout",
     "output_type": "stream",
     "text": [
      "(A : 300) - (B : 500)\n"
     ]
    }
   ],
   "source": [
    "strdictpractice =''\n",
    "for key in dictpractice:\n",
    "    strdictpractice = strdictpractice + '(' + str(key) + ' : ' + str(dictpractice[key]) + ') - '\n",
    "    \n",
    "print(strdictpractice[:len(strdictpractice)-3])"
   ]
  },
  {
   "cell_type": "code",
   "execution_count": 34,
   "metadata": {},
   "outputs": [
    {
     "name": "stdout",
     "output_type": "stream",
     "text": [
      "<re.Match object; span=(0, 1), match='A'> A\n",
      "<re.Match object; span=(0, 1), match='B'> B\n",
      "<re.Match object; span=(0, 1), match='A'> A\n",
      "<re.Match object; span=(0, 1), match='R'> R\n",
      "None  \n",
      "True 4\n",
      "None 2\n",
      "True 5\n",
      "None 0\n",
      "True 6\n",
      "None 0\n",
      "True 7\n"
     ]
    }
   ],
   "source": [
    "import re\n",
    "for n in range(len(sampleart)):\n",
    "    x = re.search(\"[a-zA-Z]\", sampleart[n])\n",
    "    print(str(x)+' '+sampleart[n])\n",
    "    if( x == None):\n",
    "        print(str(True) + ' ' +str(n) )\n",
    "    "
   ]
  },
  {
   "cell_type": "code",
   "execution_count": 32,
   "metadata": {},
   "outputs": [
    {
     "name": "stdout",
     "output_type": "stream",
     "text": [
      "444\n"
     ]
    }
   ],
   "source": [
    "print(int(\" 444\"))"
   ]
  },
  {
   "cell_type": "code",
   "execution_count": null,
   "metadata": {},
   "outputs": [],
   "source": []
  }
 ],
 "metadata": {
  "kernelspec": {
   "display_name": "Python 3",
   "language": "python",
   "name": "python3"
  },
  "language_info": {
   "codemirror_mode": {
    "name": "ipython",
    "version": 3
   },
   "file_extension": ".py",
   "mimetype": "text/x-python",
   "name": "python",
   "nbconvert_exporter": "python",
   "pygments_lexer": "ipython3",
   "version": "3.7.6"
  }
 },
 "nbformat": 4,
 "nbformat_minor": 4
}
