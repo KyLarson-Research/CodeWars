{
 "cells": [
  {
   "cell_type": "code",
   "execution_count": null,
   "metadata": {},
   "outputs": [],
   "source": [
    "#File Name: gratitude.ipynb\n",
    "#author: Kyle Carlton Larson\n",
    "#purpose: to work towards the project goal of generating unique product key from time stamp and UID \n",
    "#Thanksgiving dinner's sad and thankless\n",
    "#chritmass dinner's dark and blue\n",
    "#when you stop and try to see it from the turkey's point of view.\n",
    "#\n",
    "#Sunday dinner isn't sunny\n",
    "#easter feasts are just bad luc"
   ]
  }
 ],
 "metadata": {
  "kernelspec": {
   "display_name": "Python 3",
   "language": "python",
   "name": "python3"
  },
  "language_info": {
   "codemirror_mode": {
    "name": "ipython",
    "version": 3
   },
   "file_extension": ".py",
   "mimetype": "text/x-python",
   "name": "python",
   "nbconvert_exporter": "python",
   "pygments_lexer": "ipython3",
   "version": "3.7.6"
  }
 },
 "nbformat": 4,
 "nbformat_minor": 4
}
