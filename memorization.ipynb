{
 "cells": [
  {
   "cell_type": "code",
   "execution_count": 1,
   "metadata": {},
   "outputs": [
    {
     "name": "stdout",
     "output_type": "stream",
     "text": [
      "8.4889085\n",
      "first\n",
      "8.342590000000001\n",
      "second\n",
      "2.600000001962144e-06\n"
     ]
    }
   ],
   "source": [
    "#memorization.ipynb\n",
    "#Author: Kyle Carlton Larson\n",
    "#for completing the codewars kata of  high order fibonacci\n",
    "import timeit\n",
    "\n",
    "def memorize(func):\n",
    "#This function uses global context memory to cache the results of a function call\n",
    "#using a decorator, function that takes a function and returns a function.\n",
    "#this implementation adds an 'r' to Dan Bader's Memoization \n",
    "#(see https://dbader.org/blog/python-memoization)\n",
    "#I am goint ot downvote this puzzle however because the use of a mutable global varible seems\n",
    "#better than this complicated decorator\n",
    "    cache = dict()\n",
    "\n",
    "    def memorized_func(*args):\n",
    "        #note:args is python unique variable name for what is fed to func \n",
    "        if args in cache:\n",
    "            return cache[args]\n",
    "        result = func(*args)\n",
    "        cache[args] = result\n",
    "        return result\n",
    "\n",
    "    return memorized_func\n",
    "\n",
    "def sum_range(r):\n",
    "    s = sum(*[range(r)])\n",
    "    return s\n",
    "print(timeit.timeit('sum_range(10**8)', globals=globals(),number=1))\n",
    "memorized_sum = memorize(sum_range)\n",
    "print('first')\n",
    "print(timeit.timeit('memorized_sum(10**8)', globals=globals(), number=1))\n",
    "print('second')\n",
    "print(timeit.timeit('memorized_sum(10**8)', globals=globals(), number=1))\n"
   ]
  },
  {
   "cell_type": "code",
   "execution_count": 2,
   "metadata": {},
   "outputs": [],
   "source": [
    "def fibonacci(n):\n",
    "    if n in [0, 1]:\n",
    "        return n\n",
    "    return fibonacci(n - 1) + fibonacci(n - 2)"
   ]
  },
  {
   "cell_type": "code",
   "execution_count": 3,
   "metadata": {},
   "outputs": [
    {
     "name": "stdout",
     "output_type": "stream",
     "text": [
      "first\n",
      "103.3418212\n",
      "second\n",
      "103.467629\n",
      "third\n",
      "170.6926691\n"
     ]
    }
   ],
   "source": [
    "def fibonacci(N):\n",
    "    def memoize(func):\n",
    "#This function uses global context memory to cache the results of a function call\n",
    "#using a decorator, function that takes a function and returns a function.\n",
    "#this implementation adds an Dan Bader's Memoization \n",
    "#(see https://dbader.org/blog/python-memoization)\n",
    "#I am going to downvote this kata however because the use of a mutable global varible seems\n",
    "#better than this complicated decorator\n",
    "        cache = dict()\n",
    "\n",
    "        def memoized_func(*args):\n",
    "        #note:args is python unique variable name for what is fed to func \n",
    "            if args in cache:\n",
    "                return cache[args]\n",
    "            result = func(*args)\n",
    "            cache[args] = result\n",
    "            return result\n",
    "\n",
    "        return memoized_func\n",
    "    def f(n):\n",
    "        if n in [0, 1]:\n",
    "            return n\n",
    "        return f(n - 1) + f(n - 2)\n",
    "    memoized_f = memoize(f)\n",
    "    return memoized_f(N)\n",
    "print('first')\n",
    "print(timeit.timeit('fibonacci(40)', globals=globals(), number=1))\n",
    "print('second')\n",
    "print(timeit.timeit('fibonacci(40)', globals=globals(), number=1))\n",
    "print('third')\n",
    "print(timeit.timeit('fibonacci(41)', globals=globals(), number=1))\n"
   ]
  },
  {
   "cell_type": "code",
   "execution_count": 4,
   "metadata": {},
   "outputs": [
    {
     "name": "stdout",
     "output_type": "stream",
     "text": [
      "102334155\n"
     ]
    }
   ],
   "source": [
    "print(fibonacci(40))"
   ]
  },
  {
   "cell_type": "code",
   "execution_count": 5,
   "metadata": {},
   "outputs": [
    {
     "name": "stdout",
     "output_type": "stream",
     "text": [
      "first\n",
      "103.09552500000001\n",
      "second\n",
      "99.99713900000006\n",
      "third\n",
      "161.6543749\n"
     ]
    }
   ],
   "source": [
    "def memoize(func):\n",
    "#This function uses global context memory to cache the results of a function call\n",
    "#using a decorator, function that takes a function and returns a function.\n",
    "#this implementation adds an Dan Bader's Memoization \n",
    "#(see https://dbader.org/blog/python-memoization)\n",
    "#I am going to downvote this kata however because the use of a mutable global varible seems\n",
    "#better than this complicated decorator\n",
    "    cache = dict()\n",
    "\n",
    "    def memoized_func(*args):\n",
    "        #note:args is python unique variable name for what is fed to func \n",
    "        if args in cache:\n",
    "            return cache[args]\n",
    "        result = func(*args)\n",
    "        cache[args] = result\n",
    "        return result\n",
    "\n",
    "    return memoized_func\n",
    "def fibonacci(N):\n",
    "    def f(n):\n",
    "        if n in [0, 1]:\n",
    "            return n\n",
    "        return f(n - 1) + f(n - 2)\n",
    "    memoized_f = memoize(f)\n",
    "    return memoized_f(N)\n",
    "print('first')\n",
    "print(timeit.timeit('fibonacci(40)', globals=globals(), number=1))\n",
    "print('second')\n",
    "print(timeit.timeit('fibonacci(40)', globals=globals(), number=1))\n",
    "print('third')\n",
    "print(timeit.timeit('fibonacci(41)', globals=globals(), number=1))\n"
   ]
  },
  {
   "cell_type": "code",
   "execution_count": 6,
   "metadata": {},
   "outputs": [
    {
     "name": "stdout",
     "output_type": "stream",
     "text": [
      "first\n",
      "99.03358409999998\n",
      "second\n",
      "2.8000000611427822e-06\n",
      "third\n",
      "156.92441910000014\n"
     ]
    }
   ],
   "source": [
    "def memoize(func):\n",
    "#This function uses global context memory to cache the results of a function call\n",
    "#using a decorator, function that takes a function and returns a function.\n",
    "#this implementation adds an Dan Bader's Memoization \n",
    "#(see https://dbader.org/blog/python-memoization)\n",
    "#I am going to downvote this kata however because the use of a mutable global varible seems\n",
    "#better than this complicated decorator\n",
    "    cache = dict()\n",
    "\n",
    "    def memoized_func(*args):\n",
    "        #note:args is python unique variable name for what is fed to func \n",
    "        if args in cache:\n",
    "            return cache[args]\n",
    "        result = func(*args)\n",
    "        cache[args] = result\n",
    "        return result\n",
    "\n",
    "    return memoized_func\n",
    "def fibonacci(N):\n",
    "    if N in [0, 1]:\n",
    "        return N\n",
    "    return fibonacci(N - 1) + fibonacci(N - 2)\n",
    "   \n",
    "memoized_f = memoize(fibonacci)\n",
    "\n",
    "print('first')\n",
    "print(timeit.timeit('memoized_f(40)', globals=globals(), number=1))\n",
    "print('second')\n",
    "print(timeit.timeit('memoized_f(40)', globals=globals(), number=1))\n",
    "print('third')\n",
    "print(timeit.timeit('memoized_f(41)', globals=globals(), number=1))"
   ]
  },
  {
   "cell_type": "code",
   "execution_count": 9,
   "metadata": {},
   "outputs": [
    {
     "name": "stdout",
     "output_type": "stream",
     "text": [
      "first 40\n",
      "6.630000007135095e-05\n",
      "second 40\n",
      "2.6999996407539584e-06\n",
      "first 39\n",
      "4.699999863078119e-06\n",
      "first 41\n",
      "8.600000001024455e-06\n"
     ]
    }
   ],
   "source": [
    "def memoize(func):\n",
    "#This function uses global context memory to cache the results of a function call\n",
    "#using a decorator, function that takes a function and returns a function.\n",
    "#this implementation adds an Dan Bader's Memoization \n",
    "#(see https://dbader.org/blog/python-memoization)\n",
    "    cache = dict()\n",
    "\n",
    "    def memoized_func(*args):\n",
    "        #note:args is python unique variable name for what is fed to func \n",
    "        if args in cache:\n",
    "            return cache[args]\n",
    "        result = func(*args)\n",
    "        cache[args] = result\n",
    "        return result\n",
    "\n",
    "    return memoized_func\n",
    "\n",
    "cache_log = [0, 1] #longterm memory\n",
    "def f(N): #the road to here needed3 nights of sleeping on it\n",
    "    if(len(cache_log) <= N): #if N has not been memoized then calculate it\n",
    "        if N in [0, 1]:         #  -----------\n",
    "            return N            #    Original implementation\n",
    "        F = f(N - 1) + f(N - 2) # ------------\n",
    "        cache_log.append(F)\n",
    "        return F\n",
    "    else:    #N has been calculated go get it from the global\n",
    "        return cache_log[N] #bridge between the memories\n",
    "fibonacci = memoize(f) #bridge between the moemories\n",
    "\n",
    "    \n",
    "print('first 40')\n",
    "print(timeit.timeit('fibonacci(40)', globals=globals(), number=1))\n",
    "print('second 40')\n",
    "print(timeit.timeit('fibonacci(40)', globals=globals(), number=1))\n",
    "print('first 39')\n",
    "print(timeit.timeit('fibonacci(39)', globals=globals(), number=1))\n",
    "print('first 41')\n",
    "print(timeit.timeit('fibonacci(41)', globals=globals(), number=1))"
   ]
  },
  {
   "cell_type": "code",
   "execution_count": 8,
   "metadata": {},
   "outputs": [
    {
     "ename": "NameError",
     "evalue": "name 'cache' is not defined",
     "output_type": "error",
     "traceback": [
      "\u001b[1;31m---------------------------------------------------------------------------\u001b[0m",
      "\u001b[1;31mNameError\u001b[0m                                 Traceback (most recent call last)",
      "\u001b[1;32m<ipython-input-8-2441d7ec6790>\u001b[0m in \u001b[0;36m<module>\u001b[1;34m\u001b[0m\n\u001b[1;32m----> 1\u001b[1;33m \u001b[0mprint\u001b[0m\u001b[1;33m(\u001b[0m\u001b[0mcache\u001b[0m\u001b[1;33m)\u001b[0m\u001b[1;33m\u001b[0m\u001b[1;33m\u001b[0m\u001b[0m\n\u001b[0m",
      "\u001b[1;31mNameError\u001b[0m: name 'cache' is not defined"
     ]
    }
   ],
   "source": [
    "print(cache)#this is purely to demonstrate that only memoize may access cache!"
   ]
  },
  {
   "cell_type": "code",
   "execution_count": null,
   "metadata": {},
   "outputs": [],
   "source": []
  }
 ],
 "metadata": {
  "kernelspec": {
   "display_name": "Python 3",
   "language": "python",
   "name": "python3"
  },
  "language_info": {
   "codemirror_mode": {
    "name": "ipython",
    "version": 3
   },
   "file_extension": ".py",
   "mimetype": "text/x-python",
   "name": "python",
   "nbconvert_exporter": "python",
   "pygments_lexer": "ipython3",
   "version": "3.7.6"
  }
 },
 "nbformat": 4,
 "nbformat_minor": 4
}
