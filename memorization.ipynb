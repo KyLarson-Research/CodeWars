{
 "cells": [
  {
   "cell_type": "code",
   "execution_count": 12,
   "metadata": {},
   "outputs": [
    {
     "name": "stdout",
     "output_type": "stream",
     "text": [
      "8.928980199999842\n",
      "first\n",
      "8.881547100000262\n",
      "second\n",
      "3.900000137946336e-06\n"
     ]
    }
   ],
   "source": [
    "#memorization.ipynb\n",
    "#Author: Kyle Carlton Larson\n",
    "#for completing the codewars kata of  high order fibonacci\n",
    "import timeit\n",
    "\n",
    "def memorize(func):\n",
    "#This function uses global context memory to cache the results of a function call\n",
    "#using a decorator, function that takes a function and returns a function.\n",
    "#this implementation adds an 'r' to Dan Bader's Memoization \n",
    "#(see https://dbader.org/blog/python-memoization)\n",
    "#I am goint ot downvote this puzzle however because the use of a mutable global varible seems\n",
    "#better than this complicated decorator\n",
    "    cache = dict()\n",
    "\n",
    "    def memorized_func(*args):\n",
    "        #note:args is python unique variable name for what is fed to func \n",
    "        if args in cache:\n",
    "            return cache[args]\n",
    "        result = func(*args)\n",
    "        cache[args] = result\n",
    "        return result\n",
    "\n",
    "    return memorized_func\n",
    "\n",
    "def sum_range(r):\n",
    "    s = sum(*[range(r)])\n",
    "    return s\n",
    "print(timeit.timeit('sum_range(10**8)', globals=globals(),number=1))\n",
    "memorized_sum = memorize(sum_range)\n",
    "print('first')\n",
    "print(timeit.timeit('memorized_sum(10**8)', globals=globals(), number=1))\n",
    "print('second')\n",
    "print(timeit.timeit('memorized_sum(10**8)', globals=globals(), number=1))\n"
   ]
  },
  {
   "cell_type": "code",
   "execution_count": null,
   "metadata": {},
   "outputs": [],
   "source": [
    "def fibonacci(n):\n",
    "    if n in [0, 1]:\n",
    "        return n\n",
    "    return fibonacci(n - 1) + fibonacci(n - 2)"
   ]
  },
  {
   "cell_type": "code",
   "execution_count": 13,
   "metadata": {},
   "outputs": [],
   "source": [
    "def fibonacci(N):\n",
    "    def memorize(func):\n",
    "#This function uses global context memory to cache the results of a function call\n",
    "#using a decorator, function that takes a function and returns a function.\n",
    "#this implementation adds an 'r' to Dan Bader's Memoization \n",
    "#(see https://dbader.org/blog/python-memoization)\n",
    "#I am going to downvote this kata however because the use of a mutable global varible seems\n",
    "#better than this complicated decorator\n",
    "        cache = dict()\n",
    "\n",
    "        def memorized_func(*args):\n",
    "        #note:args is python unique variable name for what is fed to func \n",
    "            if args in cache:\n",
    "                return cache[args]\n",
    "            result = func(*args)\n",
    "            cache[args] = result\n",
    "            return result\n",
    "\n",
    "        return memorized_func\n",
    "    def f(n):\n",
    "        if n in [0, 1]:\n",
    "            return n\n",
    "        return (n - 1) + f(n - 2)\n",
    "    memorized_f = memorize(f)\n",
    "    return memorized_f(N)\n"
   ]
  },
  {
   "cell_type": "code",
   "execution_count": 19,
   "metadata": {},
   "outputs": [
    {
     "name": "stdout",
     "output_type": "stream",
     "text": [
      "102334155\n"
     ]
    }
   ],
   "source": [
    "print(fibonacci(40))"
   ]
  },
  {
   "cell_type": "code",
   "execution_count": null,
   "metadata": {},
   "outputs": [],
   "source": []
  }
 ],
 "metadata": {
  "kernelspec": {
   "display_name": "Python 3",
   "language": "python",
   "name": "python3"
  },
  "language_info": {
   "codemirror_mode": {
    "name": "ipython",
    "version": 3
   },
   "file_extension": ".py",
   "mimetype": "text/x-python",
   "name": "python",
   "nbconvert_exporter": "python",
   "pygments_lexer": "ipython3",
   "version": "3.7.6"
  }
 },
 "nbformat": 4,
 "nbformat_minor": 4
}
