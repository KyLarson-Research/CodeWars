{
 "cells": [
  {
   "cell_type": "code",
   "execution_count": 98,
   "metadata": {},
   "outputs": [
    {
     "name": "stdout",
     "output_type": "stream",
     "text": [
      "3\n",
      "False\n"
     ]
    }
   ],
   "source": [
    "#alphanumeric.ipynb\n",
    "#Author: Kyle C Larson\n",
    "#Purpose: solve the puzzle on codewars\n",
    "import re\n",
    "def alphanumeric(password):\n",
    "    if(password == ''):#requirement 1\n",
    "        return False\n",
    "    if(\n",
    "        (\n",
    "            \"\\n\" not in password\n",
    "        ) and \n",
    "        (\n",
    "            \"\\t\" not in password\n",
    "        ) and \n",
    "        (\n",
    "            \" \" not in password\n",
    "        ) and \n",
    "        (\n",
    "            \"_\" not in password\n",
    "        ) and \n",
    "        (\n",
    "            \"[\" not in password\n",
    "        ) and \n",
    "        (\n",
    "            \"[\" not in password\n",
    "        ) and \n",
    "        (\n",
    "            \"]\" not in password\n",
    "        ) and \n",
    "        (\n",
    "            \"\\\\\" not in password\n",
    "        ) and \n",
    "        (\n",
    "            \".\" not in password\n",
    "        ) and\n",
    "        (\n",
    "            \"^\" not in password\n",
    "        ) and\n",
    "        (\n",
    "            \"$\" not in password\n",
    "        ) and\n",
    "        (\n",
    "            \"*\" not in password\n",
    "        ) and\n",
    "        (\n",
    "            \"+\" not in password\n",
    "        ) and\n",
    "        (\n",
    "            \"{\" not in password\n",
    "        ) and\n",
    "        (\n",
    "            \"}\" not in password\n",
    "        ) and\n",
    "        (\n",
    "            \"|\" not in password\n",
    "        ) and\n",
    "        (\n",
    "            \"(\" not in password\n",
    "        ) and\n",
    "        (\n",
    "            \")\" not in password\n",
    "        ) and\n",
    "        (\n",
    "            \"=\" not in password\n",
    "        ) and\n",
    "        (\n",
    "            \":\" not in password\n",
    "        ) and\n",
    "        (\n",
    "            \";\" not in password \n",
    "        ) and\n",
    "        (\n",
    "            \"<\" not in password\n",
    "        ) and\n",
    "        (\n",
    "            \">\" not in password \n",
    "        ) and\n",
    "        (\n",
    "            \",\" not in password\n",
    "        ) and\n",
    "        (\n",
    "            \"?\" not in password\n",
    "        ) and\n",
    "        (\n",
    "            \"/\" not in password\n",
    "        ) and\n",
    "        (\n",
    "            \"'\" not in password\n",
    "        ) and\n",
    "        (\n",
    "            \"\"'\"'\"\" not in password\n",
    "        ) \n",
    "        ):\n",
    "        x = re.search(\"[!~`@#%&-]\",password)\n",
    "        if(x):\n",
    "            print(1)\n",
    "            return False\n",
    "        else:\n",
    "            print(2)\n",
    "            return True\n",
    "    else:\n",
    "        print(3)\n",
    "        return False\n",
    "c=  \"l3hm4u6xf\tIB\"\n",
    "print(alphanumeric(c))"
   ]
  },
  {
   "cell_type": "code",
   "execution_count": 83,
   "metadata": {},
   "outputs": [
    {
     "name": "stdout",
     "output_type": "stream",
     "text": [
      "\"\n"
     ]
    }
   ],
   "source": [
    "print(\"\"'\"'\"\")"
   ]
  },
  {
   "cell_type": "code",
   "execution_count": 93,
   "metadata": {},
   "outputs": [
    {
     "name": "stdout",
     "output_type": "stream",
     "text": [
      "\\\n"
     ]
    }
   ],
   "source": [
    "print(\"\\\\\")"
   ]
  },
  {
   "cell_type": "code",
   "execution_count": 97,
   "metadata": {},
   "outputs": [
    {
     "name": "stdout",
     "output_type": "stream",
     "text": [
      "\t\n"
     ]
    }
   ],
   "source": [
    "print(\"\\t\")"
   ]
  },
  {
   "cell_type": "code",
   "execution_count": null,
   "metadata": {},
   "outputs": [],
   "source": []
  }
 ],
 "metadata": {
  "kernelspec": {
   "display_name": "Python 3",
   "language": "python",
   "name": "python3"
  },
  "language_info": {
   "codemirror_mode": {
    "name": "ipython",
    "version": 3
   },
   "file_extension": ".py",
   "mimetype": "text/x-python",
   "name": "python",
   "nbconvert_exporter": "python",
   "pygments_lexer": "ipython3",
   "version": "3.7.6"
  }
 },
 "nbformat": 4,
 "nbformat_minor": 4
}
